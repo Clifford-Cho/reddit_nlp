{
 "cells": [
  {
   "cell_type": "markdown",
   "id": "961d2881",
   "metadata": {},
   "source": [
    "# Reddit Analysis using Pushshift API\n",
    "\n",
    "## Part 3: Exploratory Data Analysis\n",
    "- [Analysis of r/raisedbynarcissists](#Analysis-of-r/raisedbynarcissists)\n",
    "- [Analysis of r/TalesFromRetail](#Analysis-of-r/TalesFromRetail)\n",
    "- [Complete Data Analysis](#Complete-Data-Analysis)\n",
    "- [Additional Stop Word Analysis](#Additional-Stop-Word-Analysis)"
   ]
  },
  {
   "cell_type": "code",
   "execution_count": 1,
   "id": "13e8bab1",
   "metadata": {},
   "outputs": [],
   "source": [
    "# Import libaries\n",
    "import pandas as pd\n",
    "import numpy as np\n",
    "import matplotlib.pyplot as plt\n",
    "import seaborn as sns\n",
    "\n",
    "from sklearn.feature_extraction.text import CountVectorizer"
   ]
  },
  {
   "cell_type": "code",
   "execution_count": 2,
   "id": "5c6fa753",
   "metadata": {},
   "outputs": [],
   "source": [
    "# Get datasets\n",
    "df = pd.read_csv('./data/cleaned.csv', lineterminator='\\n', index_col=0)\n",
    "dfR = pd.read_csv('./data/clean_retail.csv', lineterminator='\\n', index_col=0)\n",
    "dfN = pd.read_csv('./data/clean_narc.csv', lineterminator='\\n', index_col=0)"
   ]
  },
  {
   "cell_type": "code",
   "execution_count": 3,
   "id": "61dee775",
   "metadata": {},
   "outputs": [
    {
     "data": {
      "text/plain": [
       "((1882, 6), (923, 6), (959, 6))"
      ]
     },
     "execution_count": 3,
     "metadata": {},
     "output_type": "execute_result"
    }
   ],
   "source": [
    "df.shape, dfN.shape, dfR.shape"
   ]
  },
  {
   "cell_type": "markdown",
   "id": "88a85eec",
   "metadata": {},
   "source": [
    "# Analysis of r/raisedbynarcissists"
   ]
  },
  {
   "cell_type": "code",
   "execution_count": 5,
   "id": "58b00b31",
   "metadata": {},
   "outputs": [
    {
     "data": {
      "text/plain": [
       "(10.570964247020585, 44.284671532846716)"
      ]
     },
     "execution_count": 5,
     "metadata": {},
     "output_type": "execute_result"
    }
   ],
   "source": [
    "dfN.num_comments.mean(), dfR.num_comments.mean()"
   ]
  },
  {
   "cell_type": "code",
   "execution_count": 5,
   "id": "a35a3083",
   "metadata": {
    "scrolled": true
   },
   "outputs": [
    {
     "data": {
      "image/png": "[encoded data removed]",
      "text/plain": [
       "<Figure size 720x360 with 2 Axes>"
      ]
     },
     "metadata": {
      "needs_background": "light"
     },
     "output_type": "display_data"
    }
   ],
   "source": [
    "# EDA on raisedbynarcissists\n",
    "fig, ax = plt.subplots(1, 2, figsize = (10,5))\n",
    "\n",
    "# Word count analysis\n",
    "ax[0].hist(dfN.word_count, bins = 15, range = (0,2000));\n",
    "ax[0].set_xlabel('Number of words in a post')\n",
    "ax[0].set_ylabel('Number of posts')\n",
    "ax[0].set_title('Word Count Analysis in r/raisedbynarcissists')\n",
    "ax[0].axvline(x = dfN.word_count.mean(), c = 'r')\n",
    "\n",
    "# Text length analysis\n",
    "ax[1].hist(dfN.text_len, bins = 15)\n",
    "ax[1].set_xlabel('Text length of a post')\n",
    "ax[1].set_ylabel('Number of posts')\n",
    "ax[1].set_title('Text Length Analysis in r/raisedbynarcissists')\n",
    "ax[1].axvline(x = dfN.text_len.mean(), c = 'r');"
   ]
  },
  {
   "cell_type": "code",
   "execution_count": 22,
   "id": "91384dac",
   "metadata": {
    "scrolled": true
   },
   "outputs": [
    {
     "data": {
      "text/html": [
       "<div>\n",
       "<style scoped>\n",
       "    .dataframe tbody tr th:only-of-type {\n",
       "        vertical-align: middle;\n",
       "    }\n",
       "\n",
       "    .dataframe tbody tr th {\n",
       "        vertical-align: top;\n",
       "    }\n",
       "\n",
       "    .dataframe thead th {\n",
       "        text-align: right;\n",
       "    }\n",
       "</style>\n",
       "<table border=\"1\" class=\"dataframe\">\n",
       "  <thead>\n",
       "    <tr style=\"text-align: right;\">\n",
       "      <th></th>\n",
       "      <th>just</th>\n",
       "      <th>like</th>\n",
       "      <th>im</th>\n",
       "      <th>mom</th>\n",
       "      <th>time</th>\n",
       "      <th>know</th>\n",
       "      <th>feel</th>\n",
       "      <th>parents</th>\n",
       "      <th>dont</th>\n",
       "      <th>dad</th>\n",
       "      <th>told</th>\n",
       "      <th>want</th>\n",
       "      <th>things</th>\n",
       "      <th>said</th>\n",
       "      <th>life</th>\n",
       "      <th>really</th>\n",
       "      <th>mother</th>\n",
       "      <th>family</th>\n",
       "      <th>years</th>\n",
       "      <th>going</th>\n",
       "    </tr>\n",
       "  </thead>\n",
       "  <tbody>\n",
       "    <tr>\n",
       "      <th>0</th>\n",
       "      <td>1624</td>\n",
       "      <td>1439</td>\n",
       "      <td>1142</td>\n",
       "      <td>996</td>\n",
       "      <td>864</td>\n",
       "      <td>857</td>\n",
       "      <td>824</td>\n",
       "      <td>798</td>\n",
       "      <td>755</td>\n",
       "      <td>663</td>\n",
       "      <td>662</td>\n",
       "      <td>640</td>\n",
       "      <td>623</td>\n",
       "      <td>615</td>\n",
       "      <td>589</td>\n",
       "      <td>580</td>\n",
       "      <td>559</td>\n",
       "      <td>557</td>\n",
       "      <td>519</td>\n",
       "      <td>506</td>\n",
       "    </tr>\n",
       "  </tbody>\n",
       "</table>\n",
       "</div>"
      ],
      "text/plain": [
       "   just  like    im  mom  time  know  feel  parents  dont  dad  told  want  \\\n",
       "0  1624  1439  1142  996   864   857   824      798   755  663   662   640   \n",
       "\n",
       "   things  said  life  really  mother  family  years  going  \n",
       "0     623   615   589     580     559     557    519    506  "
      ]
     },
     "execution_count": 22,
     "metadata": {},
     "output_type": "execute_result"
    }
   ],
   "source": [
    "# Use CountVectorizer to see if there are any strict giveaway words\n",
    "\n",
    "# Fit and initiate\n",
    "cv_test = CountVectorizer(stop_words = 'english')\n",
    "\n",
    "# Created dataframe of words\n",
    "dfN_cv = pd.DataFrame(cv_test.fit_transform(dfN.text).todense(),\n",
    "                      columns= cv_test.get_feature_names())\n",
    "\n",
    "# Order words in terms of importance\n",
    "dfN_sort = pd.DataFrame(dfN_cv.T.sum(axis = 1)).sort_values(0, ascending = False).T\n",
    "\n",
    "# Top 20 words\n",
    "dfN_sort.iloc[:,:20]"
   ]
  },
  {
   "cell_type": "code",
   "execution_count": 27,
   "id": "d3bf6388",
   "metadata": {},
   "outputs": [
    {
     "data": {
      "text/plain": [
       "Index(['just', 'like', 'im', 'mom', 'time', 'know', 'feel', 'parents', 'dont',\n",
       "       'dad', 'told', 'want', 'things', 'said', 'life', 'really', 'mother',\n",
       "       'family', 'years', 'going'],\n",
       "      dtype='object')"
      ]
     },
     "execution_count": 27,
     "metadata": {},
     "output_type": "execute_result"
    }
   ],
   "source": [
    "# Extra stop words used in next part\n",
    "dfN_sort.iloc[:,:20].columns"
   ]
  },
  {
   "cell_type": "code",
   "execution_count": 39,
   "id": "b48bd066",
   "metadata": {},
   "outputs": [
    {
     "data": {
      "image/png": "[encoded data removed]",
      "text/plain": [
       "<Figure size 504x504 with 1 Axes>"
      ]
     },
     "metadata": {
      "needs_background": "light"
     },
     "output_type": "display_data"
    }
   ],
   "source": [
    "dfN_cv.sum().sort_values(ascending = False).head(20).plot(kind = 'barh',\n",
    "                                                         figsize = (7, 7),\n",
    "                                                         xlabel = 'Word in dataframe',\n",
    "                                                         ylabel = 'Number of instances',\n",
    "                                                         title = '20 most common words in r/TalesFromRetail');"
   ]
  },
  {
   "cell_type": "markdown",
   "id": "19dbb06c",
   "metadata": {},
   "source": [
    "# Analysis of TalesFromRetail"
   ]
  },
  {
   "cell_type": "code",
   "execution_count": 7,
   "id": "e11302f4",
   "metadata": {},
   "outputs": [
    {
     "data": {
      "image/png": "[encoded data removed]",
      "text/plain": [
       "<Figure size 720x360 with 2 Axes>"
      ]
     },
     "metadata": {
      "needs_background": "light"
     },
     "output_type": "display_data"
    }
   ],
   "source": [
    "# EDA on TalesFromRetail\n",
    "fig, ax = plt.subplots(1, 2, figsize = (10,5))\n",
    "\n",
    "# Word count analysis\n",
    "ax[0].hist(dfR.word_count, bins = 15, range = (0,2000));\n",
    "ax[0].set_xlabel('Number of words in post')\n",
    "ax[0].set_ylabel('Number of posts')\n",
    "ax[0].set_title('Word Count Analysis in r/TalesFromRetail')\n",
    "ax[0].axvline(x = dfR.word_count.mean(), c = 'r')\n",
    "\n",
    "# Text length analysis\n",
    "ax[1].hist(dfR.text_len, bins = 15)\n",
    "ax[1].set_xlabel('Text length in post')\n",
    "ax[1].set_ylabel('Number of posts')\n",
    "ax[1].set_title('Text Length Analysis in r/TalesFromRetail')\n",
    "ax[1].axvline(x = dfR.text_len.mean(), c = 'r');"
   ]
  },
  {
   "cell_type": "code",
   "execution_count": 68,
   "id": "5f5f747d",
   "metadata": {},
   "outputs": [
    {
     "data": {
      "text/html": [
       "<div>\n",
       "<style scoped>\n",
       "    .dataframe tbody tr th:only-of-type {\n",
       "        vertical-align: middle;\n",
       "    }\n",
       "\n",
       "    .dataframe tbody tr th {\n",
       "        vertical-align: top;\n",
       "    }\n",
       "\n",
       "    .dataframe thead th {\n",
       "        text-align: right;\n",
       "    }\n",
       "</style>\n",
       "<table border=\"1\" class=\"dataframe\">\n",
       "  <thead>\n",
       "    <tr style=\"text-align: right;\">\n",
       "      <th></th>\n",
       "      <th>just</th>\n",
       "      <th>store</th>\n",
       "      <th>customer</th>\n",
       "      <th>like</th>\n",
       "      <th>im</th>\n",
       "      <th>time</th>\n",
       "      <th>manager</th>\n",
       "      <th>said</th>\n",
       "      <th>know</th>\n",
       "      <th>work</th>\n",
       "      <th>told</th>\n",
       "      <th>dont</th>\n",
       "      <th>people</th>\n",
       "      <th>day</th>\n",
       "      <th>lady</th>\n",
       "      <th>customers</th>\n",
       "      <th>going</th>\n",
       "      <th>got</th>\n",
       "      <th>did</th>\n",
       "      <th>tell</th>\n",
       "    </tr>\n",
       "  </thead>\n",
       "  <tbody>\n",
       "    <tr>\n",
       "      <th>0</th>\n",
       "      <td>1856</td>\n",
       "      <td>1820</td>\n",
       "      <td>1223</td>\n",
       "      <td>1101</td>\n",
       "      <td>948</td>\n",
       "      <td>913</td>\n",
       "      <td>877</td>\n",
       "      <td>850</td>\n",
       "      <td>837</td>\n",
       "      <td>833</td>\n",
       "      <td>752</td>\n",
       "      <td>679</td>\n",
       "      <td>675</td>\n",
       "      <td>672</td>\n",
       "      <td>635</td>\n",
       "      <td>634</td>\n",
       "      <td>557</td>\n",
       "      <td>548</td>\n",
       "      <td>526</td>\n",
       "      <td>523</td>\n",
       "    </tr>\n",
       "  </tbody>\n",
       "</table>\n",
       "</div>"
      ],
      "text/plain": [
       "   just  store  customer  like   im  time  manager  said  know  work  told  \\\n",
       "0  1856   1820      1223  1101  948   913      877   850   837   833   752   \n",
       "\n",
       "   dont  people  day  lady  customers  going  got  did  tell  \n",
       "0   679     675  672   635        634    557  548  526   523  "
      ]
     },
     "execution_count": 68,
     "metadata": {},
     "output_type": "execute_result"
    }
   ],
   "source": [
    "# Use CountVectorizer to see if there are any strict giveaway words\n",
    "\n",
    "# Fit and initiate\n",
    "cv_test = CountVectorizer(stop_words = 'english')\n",
    "\n",
    "# Created dataframe of words\n",
    "dfR_cv = pd.DataFrame(cv_test.fit_transform(dfR.text).todense(),\n",
    "                      columns= cv_test.get_feature_names())\n",
    "\n",
    "# Order words in terms of importance\n",
    "dfR_sort = pd.DataFrame(dfR_cv.T.sum(axis = 1)).sort_values(0, ascending = False).T\n",
    "\n",
    "# Top 20 words\n",
    "dfR_sort.iloc[:,:20]"
   ]
  },
  {
   "cell_type": "code",
   "execution_count": 25,
   "id": "7c1c19b9",
   "metadata": {},
   "outputs": [
    {
     "data": {
      "text/plain": [
       "Index(['just', 'store', 'customer', 'like', 'im', 'time', 'manager', 'said',\n",
       "       'know', 'work', 'told', 'dont', 'people', 'day', 'lady', 'customers',\n",
       "       'going', 'got', 'did', 'tell'],\n",
       "      dtype='object')"
      ]
     },
     "execution_count": 25,
     "metadata": {},
     "output_type": "execute_result"
    }
   ],
   "source": [
    "# Extra stop words used in next part\n",
    "dfR_sort.iloc[:,:20].columns"
   ]
  },
  {
   "cell_type": "code",
   "execution_count": 38,
   "id": "50e43028",
   "metadata": {},
   "outputs": [
    {
     "data": {
      "image/png": "[encoded data removed]",
      "text/plain": [
       "<Figure size 504x504 with 1 Axes>"
      ]
     },
     "metadata": {
      "needs_background": "light"
     },
     "output_type": "display_data"
    }
   ],
   "source": [
    "dfR_cv.sum().sort_values(ascending = False).head(20).plot(kind = 'barh',\n",
    "                                                         figsize = (7, 7),\n",
    "                                                         xlabel = 'Word in dataframe',\n",
    "                                                         ylabel = 'Number of instances',\n",
    "                                                         title = '20 most common words in r/raisedbynarcissists');"
   ]
  },
  {
   "cell_type": "markdown",
   "id": "c5bc099f",
   "metadata": {},
   "source": [
    "# Complete Data Analysis"
   ]
  },
  {
   "cell_type": "code",
   "execution_count": 9,
   "id": "ea91023e",
   "metadata": {},
   "outputs": [
    {
     "data": {
      "image/png": "[encoded data removed]",
      "text/plain": [
       "<Figure size 360x720 with 2 Axes>"
      ]
     },
     "metadata": {
      "needs_background": "light"
     },
     "output_type": "display_data"
    }
   ],
   "source": [
    "# Preliminary feature presentation\n",
    "plt.figure(figsize = (5, 10))\n",
    "sns.heatmap(df.corr()[['subreddit']].sort_values('subreddit', ascending = False),\n",
    "            annot = True,\n",
    "            cmap = 'coolwarm',\n",
    "            vmin = -1, vmax = 1);"
   ]
  },
  {
   "cell_type": "code",
   "execution_count": 32,
   "id": "3842ce82",
   "metadata": {
    "scrolled": true
   },
   "outputs": [
    {
     "data": {
      "text/html": [
       "<div>\n",
       "<style scoped>\n",
       "    .dataframe tbody tr th:only-of-type {\n",
       "        vertical-align: middle;\n",
       "    }\n",
       "\n",
       "    .dataframe tbody tr th {\n",
       "        vertical-align: top;\n",
       "    }\n",
       "\n",
       "    .dataframe thead th {\n",
       "        text-align: right;\n",
       "    }\n",
       "</style>\n",
       "<table border=\"1\" class=\"dataframe\">\n",
       "  <thead>\n",
       "    <tr style=\"text-align: right;\">\n",
       "      <th></th>\n",
       "      <th>subreddit</th>\n",
       "      <th>num_comments</th>\n",
       "      <th>text_len</th>\n",
       "      <th>word_count</th>\n",
       "    </tr>\n",
       "  </thead>\n",
       "  <tbody>\n",
       "    <tr>\n",
       "      <th>count</th>\n",
       "      <td>1882.000000</td>\n",
       "      <td>1882.000000</td>\n",
       "      <td>1882.000000</td>\n",
       "      <td>1882.000000</td>\n",
       "    </tr>\n",
       "    <tr>\n",
       "      <th>mean</th>\n",
       "      <td>0.509564</td>\n",
       "      <td>27.750266</td>\n",
       "      <td>1811.876196</td>\n",
       "      <td>344.831562</td>\n",
       "    </tr>\n",
       "    <tr>\n",
       "      <th>std</th>\n",
       "      <td>0.500041</td>\n",
       "      <td>53.202554</td>\n",
       "      <td>1510.593647</td>\n",
       "      <td>288.316066</td>\n",
       "    </tr>\n",
       "    <tr>\n",
       "      <th>min</th>\n",
       "      <td>0.000000</td>\n",
       "      <td>0.000000</td>\n",
       "      <td>11.000000</td>\n",
       "      <td>2.000000</td>\n",
       "    </tr>\n",
       "    <tr>\n",
       "      <th>25%</th>\n",
       "      <td>0.000000</td>\n",
       "      <td>2.000000</td>\n",
       "      <td>910.500000</td>\n",
       "      <td>174.000000</td>\n",
       "    </tr>\n",
       "    <tr>\n",
       "      <th>50%</th>\n",
       "      <td>1.000000</td>\n",
       "      <td>8.000000</td>\n",
       "      <td>1455.000000</td>\n",
       "      <td>280.000000</td>\n",
       "    </tr>\n",
       "    <tr>\n",
       "      <th>75%</th>\n",
       "      <td>1.000000</td>\n",
       "      <td>28.000000</td>\n",
       "      <td>2298.500000</td>\n",
       "      <td>437.750000</td>\n",
       "    </tr>\n",
       "    <tr>\n",
       "      <th>max</th>\n",
       "      <td>1.000000</td>\n",
       "      <td>764.000000</td>\n",
       "      <td>18690.000000</td>\n",
       "      <td>3687.000000</td>\n",
       "    </tr>\n",
       "  </tbody>\n",
       "</table>\n",
       "</div>"
      ],
      "text/plain": [
       "         subreddit  num_comments      text_len   word_count\n",
       "count  1882.000000   1882.000000   1882.000000  1882.000000\n",
       "mean      0.509564     27.750266   1811.876196   344.831562\n",
       "std       0.500041     53.202554   1510.593647   288.316066\n",
       "min       0.000000      0.000000     11.000000     2.000000\n",
       "25%       0.000000      2.000000    910.500000   174.000000\n",
       "50%       1.000000      8.000000   1455.000000   280.000000\n",
       "75%       1.000000     28.000000   2298.500000   437.750000\n",
       "max       1.000000    764.000000  18690.000000  3687.000000"
      ]
     },
     "execution_count": 32,
     "metadata": {},
     "output_type": "execute_result"
    }
   ],
   "source": [
    "df.describe()"
   ]
  },
  {
   "cell_type": "code",
   "execution_count": 61,
   "id": "88eee99e",
   "metadata": {},
   "outputs": [
    {
     "data": {
      "image/png": "[encoded data removed]",
      "text/plain": [
       "<Figure size 720x360 with 2 Axes>"
      ]
     },
     "metadata": {
      "needs_background": "light"
     },
     "output_type": "display_data"
    }
   ],
   "source": [
    "# EDA on entire dataframe\n",
    "fig, ax = plt.subplots(1, 2, figsize = (10,5))\n",
    "\n",
    "# Word count analysis\n",
    "ax[0].hist(df.word_count, bins = 25);\n",
    "ax[0].set_xlabel('Number of words in post')\n",
    "ax[0].set_ylabel('Number of posts')\n",
    "ax[0].set_title('Word Count Analysis')\n",
    "ax[0].axvline(x = df.word_count.mean(), c = 'r')\n",
    "\n",
    "# Text length analysis\n",
    "ax[1].hist(df.text_len, bins = 25)\n",
    "ax[1].set_xlabel('Text length of post')\n",
    "ax[1].set_ylabel('Number of posts')\n",
    "ax[1].set_title('Text Length Analysis')\n",
    "ax[1].axvline(x = df.text_len.mean(), c = 'r');"
   ]
  },
  {
   "cell_type": "code",
   "execution_count": 10,
   "id": "c82d91a9",
   "metadata": {
    "scrolled": true
   },
   "outputs": [
    {
     "data": {
      "text/html": [
       "<div>\n",
       "<style scoped>\n",
       "    .dataframe tbody tr th:only-of-type {\n",
       "        vertical-align: middle;\n",
       "    }\n",
       "\n",
       "    .dataframe tbody tr th {\n",
       "        vertical-align: top;\n",
       "    }\n",
       "\n",
       "    .dataframe thead th {\n",
       "        text-align: right;\n",
       "    }\n",
       "</style>\n",
       "<table border=\"1\" class=\"dataframe\">\n",
       "  <thead>\n",
       "    <tr style=\"text-align: right;\">\n",
       "      <th></th>\n",
       "      <th>just</th>\n",
       "      <th>like</th>\n",
       "      <th>im</th>\n",
       "      <th>store</th>\n",
       "      <th>time</th>\n",
       "      <th>know</th>\n",
       "      <th>said</th>\n",
       "      <th>dont</th>\n",
       "      <th>told</th>\n",
       "      <th>customer</th>\n",
       "      <th>want</th>\n",
       "      <th>people</th>\n",
       "      <th>work</th>\n",
       "      <th>mom</th>\n",
       "      <th>going</th>\n",
       "      <th>day</th>\n",
       "      <th>did</th>\n",
       "      <th>got</th>\n",
       "      <th>really</th>\n",
       "      <th>feel</th>\n",
       "    </tr>\n",
       "  </thead>\n",
       "  <tbody>\n",
       "    <tr>\n",
       "      <th>0</th>\n",
       "      <td>3480</td>\n",
       "      <td>2540</td>\n",
       "      <td>2090</td>\n",
       "      <td>1845</td>\n",
       "      <td>1777</td>\n",
       "      <td>1694</td>\n",
       "      <td>1465</td>\n",
       "      <td>1434</td>\n",
       "      <td>1414</td>\n",
       "      <td>1224</td>\n",
       "      <td>1150</td>\n",
       "      <td>1127</td>\n",
       "      <td>1111</td>\n",
       "      <td>1091</td>\n",
       "      <td>1063</td>\n",
       "      <td>1046</td>\n",
       "      <td>1025</td>\n",
       "      <td>1019</td>\n",
       "      <td>976</td>\n",
       "      <td>974</td>\n",
       "    </tr>\n",
       "  </tbody>\n",
       "</table>\n",
       "</div>"
      ],
      "text/plain": [
       "   just  like    im  store  time  know  said  dont  told  customer  want  \\\n",
       "0  3480  2540  2090   1845  1777  1694  1465  1434  1414      1224  1150   \n",
       "\n",
       "   people  work   mom  going   day   did   got  really  feel  \n",
       "0    1127  1111  1091   1063  1046  1025  1019     976   974  "
      ]
     },
     "execution_count": 10,
     "metadata": {},
     "output_type": "execute_result"
    }
   ],
   "source": [
    "# Use CountVectorizer to see if there are any strict giveaway words\n",
    "\n",
    "# Fit and initiate\n",
    "cv_test = CountVectorizer(stop_words = 'english')\n",
    "\n",
    "# Created dataframe of words\n",
    "df_cv = pd.DataFrame(cv_test.fit_transform(df.text).todense(),\n",
    "                      columns= cv_test.get_feature_names())\n",
    "\n",
    "# Order words in terms of importance\n",
    "df_sort = pd.DataFrame(df_cv.T.sum(axis = 1)).sort_values(0, ascending = False).T\n",
    "\n",
    "# Top 20 words\n",
    "df_sort.iloc[:,:20]"
   ]
  },
  {
   "cell_type": "code",
   "execution_count": 41,
   "id": "ff609359",
   "metadata": {},
   "outputs": [
    {
     "data": {
      "image/png": "[encoded data removed]",
      "text/plain": [
       "<Figure size 504x504 with 1 Axes>"
      ]
     },
     "metadata": {
      "needs_background": "light"
     },
     "output_type": "display_data"
    }
   ],
   "source": [
    "# Visualization of 20 most common words\n",
    "df_cv.sum().sort_values(ascending = False).head(20).plot(kind = 'barh',\n",
    "                                                         figsize = (7, 7),\n",
    "                                                         xlabel = 'Word in dataframe',\n",
    "                                                         ylabel = 'Number of instances',\n",
    "                                                         title = '20 Most Common Words Found');"
   ]
  },
  {
   "cell_type": "code",
   "execution_count": 12,
   "id": "24894161",
   "metadata": {},
   "outputs": [
    {
     "data": {
      "text/plain": [
       "feel like           296\n",
       "dont know           267\n",
       "years ago           170\n",
       "dont want           159\n",
       "amp xb              151\n",
       "don know            138\n",
       "im sorry            136\n",
       "customer service    131\n",
       "year old            124\n",
       "grocery store       118\n",
       "monkey monkey       107\n",
       "didnt want           93\n",
       "im just              82\n",
       "im sure              81\n",
       "just want            81\n",
       "minutes later        79\n",
       "im going             78\n",
       "let know             78\n",
       "make sure            76\n",
       "years old            75\n",
       "dtype: int64"
      ]
     },
     "execution_count": 12,
     "metadata": {},
     "output_type": "execute_result"
    }
   ],
   "source": [
    "# Bigram analysis\n",
    "bi_cv = CountVectorizer(ngram_range=(2, 2), stop_words='english')\n",
    "bi_cv.fit(df.text)\n",
    "bigrams = bi_cv.transform(df.text)\n",
    "\n",
    "bi_df = pd.DataFrame(bigrams.todense(), columns = bi_cv.get_feature_names())\n",
    "bi_df.sum().sort_values(ascending = False).head(20)"
   ]
  },
  {
   "cell_type": "code",
   "execution_count": 13,
   "id": "ba661e6a",
   "metadata": {
    "scrolled": false
   },
   "outputs": [
    {
     "data": {
      "text/plain": [
       "monkey monkey monkey     106\n",
       "blah blah blah            23\n",
       "long story short          23\n",
       "work grocery store        22\n",
       "feel like im              19\n",
       "make feel like            18\n",
       "happened years ago        18\n",
       "year old sister           17\n",
       "couple years ago          17\n",
       "customer service desk     16\n",
       "im sorry maam             14\n",
       "work gas station          13\n",
       "long time ago             13\n",
       "just feel like            12\n",
       "years ago working         11\n",
       "local grocery store       11\n",
       "really dont know          11\n",
       "www reddit com            10\n",
       "years ago worked          10\n",
       "saying things like        10\n",
       "dtype: int64"
      ]
     },
     "execution_count": 13,
     "metadata": {},
     "output_type": "execute_result"
    }
   ],
   "source": [
    "# Trigram analysis\n",
    "tri_cv = CountVectorizer(ngram_range=(3, 3), stop_words='english')\n",
    "tri_cv.fit(df.text)\n",
    "trigrams = tri_cv.transform(df.text)\n",
    "\n",
    "tri_df = pd.DataFrame(trigrams.todense(), columns = tri_cv.get_feature_names())\n",
    "tri_df.sum().sort_values(ascending = False).head(20)"
   ]
  },
  {
   "cell_type": "markdown",
   "id": "0bbf5296",
   "metadata": {},
   "source": [
    "# Additional Stop Word Analysis"
   ]
  },
  {
   "cell_type": "code",
   "execution_count": 14,
   "id": "39783ddd",
   "metadata": {},
   "outputs": [
    {
     "data": {
      "text/html": [
       "<div>\n",
       "<style scoped>\n",
       "    .dataframe tbody tr th:only-of-type {\n",
       "        vertical-align: middle;\n",
       "    }\n",
       "\n",
       "    .dataframe tbody tr th {\n",
       "        vertical-align: top;\n",
       "    }\n",
       "\n",
       "    .dataframe thead th {\n",
       "        text-align: right;\n",
       "    }\n",
       "</style>\n",
       "<table border=\"1\" class=\"dataframe\">\n",
       "  <thead>\n",
       "    <tr style=\"text-align: right;\">\n",
       "      <th></th>\n",
       "      <th>id</th>\n",
       "      <th>subreddit</th>\n",
       "      <th>num_comments</th>\n",
       "      <th>text</th>\n",
       "      <th>text_len</th>\n",
       "      <th>word_count</th>\n",
       "    </tr>\n",
       "  </thead>\n",
       "  <tbody>\n",
       "    <tr>\n",
       "      <th>173</th>\n",
       "      <td>oky6fg</td>\n",
       "      <td>1</td>\n",
       "      <td>0</td>\n",
       "      <td>Stop hanging up on me  Monkey monkey monkey mo...</td>\n",
       "      <td>805</td>\n",
       "      <td>100</td>\n",
       "    </tr>\n",
       "  </tbody>\n",
       "</table>\n",
       "</div>"
      ],
      "text/plain": [
       "         id  subreddit  num_comments  \\\n",
       "173  oky6fg          1             0   \n",
       "\n",
       "                                                  text  text_len  word_count  \n",
       "173  Stop hanging up on me  Monkey monkey monkey mo...       805         100  "
      ]
     },
     "execution_count": 14,
     "metadata": {},
     "output_type": "execute_result"
    }
   ],
   "source": [
    "# Monkey\n",
    "df[df.text.str.contains('monkey monkey monkey')]"
   ]
  },
  {
   "cell_type": "code",
   "execution_count": 55,
   "id": "ec0d4eea",
   "metadata": {},
   "outputs": [
    {
     "data": {
      "text/html": [
       "<div>\n",
       "<style scoped>\n",
       "    .dataframe tbody tr th:only-of-type {\n",
       "        vertical-align: middle;\n",
       "    }\n",
       "\n",
       "    .dataframe tbody tr th {\n",
       "        vertical-align: top;\n",
       "    }\n",
       "\n",
       "    .dataframe thead th {\n",
       "        text-align: right;\n",
       "    }\n",
       "</style>\n",
       "<table border=\"1\" class=\"dataframe\">\n",
       "  <thead>\n",
       "    <tr style=\"text-align: right;\">\n",
       "      <th></th>\n",
       "      <th>id</th>\n",
       "      <th>subreddit</th>\n",
       "      <th>num_comments</th>\n",
       "      <th>text</th>\n",
       "      <th>text_len</th>\n",
       "      <th>word_count</th>\n",
       "    </tr>\n",
       "  </thead>\n",
       "  <tbody>\n",
       "    <tr>\n",
       "      <th>1199</th>\n",
       "      <td>p8v0nx</td>\n",
       "      <td>0</td>\n",
       "      <td>2</td>\n",
       "      <td>Escape Plan So I have realized I have been sev...</td>\n",
       "      <td>2039</td>\n",
       "      <td>377</td>\n",
       "    </tr>\n",
       "    <tr>\n",
       "      <th>1294</th>\n",
       "      <td>p8iruz</td>\n",
       "      <td>0</td>\n",
       "      <td>9</td>\n",
       "      <td>Avoiding Important Events Does anyone else wan...</td>\n",
       "      <td>1768</td>\n",
       "      <td>334</td>\n",
       "    </tr>\n",
       "    <tr>\n",
       "      <th>1295</th>\n",
       "      <td>p8in1k</td>\n",
       "      <td>0</td>\n",
       "      <td>5</td>\n",
       "      <td>Flying monkey Finally got a word for it thanks...</td>\n",
       "      <td>1784</td>\n",
       "      <td>331</td>\n",
       "    </tr>\n",
       "    <tr>\n",
       "      <th>1371</th>\n",
       "      <td>p8anaj</td>\n",
       "      <td>0</td>\n",
       "      <td>6</td>\n",
       "      <td>I cant trust even therapists I cant trust even...</td>\n",
       "      <td>121</td>\n",
       "      <td>21</td>\n",
       "    </tr>\n",
       "    <tr>\n",
       "      <th>1389</th>\n",
       "      <td>p88w47</td>\n",
       "      <td>0</td>\n",
       "      <td>2</td>\n",
       "      <td>Cutting off my edad  I decided to cut off my e...</td>\n",
       "      <td>598</td>\n",
       "      <td>117</td>\n",
       "    </tr>\n",
       "    <tr>\n",
       "      <th>1405</th>\n",
       "      <td>p86ysw</td>\n",
       "      <td>0</td>\n",
       "      <td>4</td>\n",
       "      <td>DAE have a Flying monkey enabler parent  I am ...</td>\n",
       "      <td>2060</td>\n",
       "      <td>393</td>\n",
       "    </tr>\n",
       "    <tr>\n",
       "      <th>1424</th>\n",
       "      <td>p84dwn</td>\n",
       "      <td>0</td>\n",
       "      <td>177</td>\n",
       "      <td>My  year old floored me today with his emotion...</td>\n",
       "      <td>1962</td>\n",
       "      <td>374</td>\n",
       "    </tr>\n",
       "    <tr>\n",
       "      <th>1554</th>\n",
       "      <td>p7jv0c</td>\n",
       "      <td>0</td>\n",
       "      <td>4</td>\n",
       "      <td>Finally went NC    I finally blocked my parent...</td>\n",
       "      <td>889</td>\n",
       "      <td>179</td>\n",
       "    </tr>\n",
       "    <tr>\n",
       "      <th>1575</th>\n",
       "      <td>p7htoz</td>\n",
       "      <td>0</td>\n",
       "      <td>2</td>\n",
       "      <td>How should I handle the flying monkeys in my f...</td>\n",
       "      <td>2252</td>\n",
       "      <td>405</td>\n",
       "    </tr>\n",
       "    <tr>\n",
       "      <th>1754</th>\n",
       "      <td>p6usbn</td>\n",
       "      <td>0</td>\n",
       "      <td>4</td>\n",
       "      <td>nParent using eSibs to infantilize me I’m NC w...</td>\n",
       "      <td>1016</td>\n",
       "      <td>184</td>\n",
       "    </tr>\n",
       "    <tr>\n",
       "      <th>1851</th>\n",
       "      <td>p6jet4</td>\n",
       "      <td>0</td>\n",
       "      <td>3</td>\n",
       "      <td>I dont want to understand  The last few days h...</td>\n",
       "      <td>4528</td>\n",
       "      <td>823</td>\n",
       "    </tr>\n",
       "    <tr>\n",
       "      <th>1853</th>\n",
       "      <td>p6ipc8</td>\n",
       "      <td>0</td>\n",
       "      <td>23</td>\n",
       "      <td>Should I go NC with nparents before announcing...</td>\n",
       "      <td>3674</td>\n",
       "      <td>691</td>\n",
       "    </tr>\n",
       "  </tbody>\n",
       "</table>\n",
       "</div>"
      ],
      "text/plain": [
       "          id  subreddit  num_comments  \\\n",
       "1199  p8v0nx          0             2   \n",
       "1294  p8iruz          0             9   \n",
       "1295  p8in1k          0             5   \n",
       "1371  p8anaj          0             6   \n",
       "1389  p88w47          0             2   \n",
       "1405  p86ysw          0             4   \n",
       "1424  p84dwn          0           177   \n",
       "1554  p7jv0c          0             4   \n",
       "1575  p7htoz          0             2   \n",
       "1754  p6usbn          0             4   \n",
       "1851  p6jet4          0             3   \n",
       "1853  p6ipc8          0            23   \n",
       "\n",
       "                                                   text  text_len  word_count  \n",
       "1199  Escape Plan So I have realized I have been sev...      2039         377  \n",
       "1294  Avoiding Important Events Does anyone else wan...      1768         334  \n",
       "1295  Flying monkey Finally got a word for it thanks...      1784         331  \n",
       "1371  I cant trust even therapists I cant trust even...       121          21  \n",
       "1389  Cutting off my edad  I decided to cut off my e...       598         117  \n",
       "1405  DAE have a Flying monkey enabler parent  I am ...      2060         393  \n",
       "1424  My  year old floored me today with his emotion...      1962         374  \n",
       "1554  Finally went NC    I finally blocked my parent...       889         179  \n",
       "1575  How should I handle the flying monkeys in my f...      2252         405  \n",
       "1754  nParent using eSibs to infantilize me I’m NC w...      1016         184  \n",
       "1851  I dont want to understand  The last few days h...      4528         823  \n",
       "1853  Should I go NC with nparents before announcing...      3674         691  "
      ]
     },
     "execution_count": 55,
     "metadata": {},
     "output_type": "execute_result"
    }
   ],
   "source": [
    "df[df.text.str.contains('flying monkey')]"
   ]
  },
  {
   "cell_type": "code",
   "execution_count": 53,
   "id": "1c8063a8",
   "metadata": {},
   "outputs": [
    {
     "data": {
      "text/plain": [
       "'Stop hanging up on me  Monkey monkey monkey monkey Monkey monkey monkey monkey Monkey monkey monkey monkey Monkey monkey monkey monkey Monkey monkey monkey monkey Monkey monkey monkey monkey Monkey monkey monkey monkey Monkey monkey monkey monkey Monkey monkey monkey monkey Monkey monkey monkey monkey Monkey monkey monkey monkey Monkey monkey monkey monkey Monkey monkey monkey monkey Monkey monkey monkey monkey Monkey monkey monkey monkey Monkey monkey monkey monkey Monkey monkey monkey monkey Monkey monkey monkey monkey Monkey monkey monkey monkey Monkey monkey monkey monkey Monkey monkey monkey monkey Monkey monkey monkey monkey Monkey monkey monkey monkey Monkey monkey monkey monkey Monkey monkey monkey monkey Monkey monkey monkey monkey Monkey monkey monkey monkey'"
      ]
     },
     "execution_count": 53,
     "metadata": {},
     "output_type": "execute_result"
    }
   ],
   "source": [
    "df.text[173]"
   ]
  },
  {
   "cell_type": "code",
   "execution_count": 69,
   "id": "192505f8",
   "metadata": {},
   "outputs": [
    {
     "data": {
      "text/html": [
       "<div>\n",
       "<style scoped>\n",
       "    .dataframe tbody tr th:only-of-type {\n",
       "        vertical-align: middle;\n",
       "    }\n",
       "\n",
       "    .dataframe tbody tr th {\n",
       "        vertical-align: top;\n",
       "    }\n",
       "\n",
       "    .dataframe thead th {\n",
       "        text-align: right;\n",
       "    }\n",
       "</style>\n",
       "<table border=\"1\" class=\"dataframe\">\n",
       "  <thead>\n",
       "    <tr style=\"text-align: right;\">\n",
       "      <th></th>\n",
       "      <th>lady</th>\n",
       "      <th>customers</th>\n",
       "      <th>going</th>\n",
       "      <th>got</th>\n",
       "      <th>did</th>\n",
       "      <th>tell</th>\n",
       "      <th>guy</th>\n",
       "      <th>want</th>\n",
       "      <th>didnt</th>\n",
       "      <th>asked</th>\n",
       "      <th>came</th>\n",
       "      <th>help</th>\n",
       "      <th>right</th>\n",
       "      <th>come</th>\n",
       "      <th>comes</th>\n",
       "      <th>items</th>\n",
       "    </tr>\n",
       "  </thead>\n",
       "  <tbody>\n",
       "    <tr>\n",
       "      <th>0</th>\n",
       "      <td>635</td>\n",
       "      <td>634</td>\n",
       "      <td>557</td>\n",
       "      <td>548</td>\n",
       "      <td>526</td>\n",
       "      <td>523</td>\n",
       "      <td>515</td>\n",
       "      <td>510</td>\n",
       "      <td>496</td>\n",
       "      <td>481</td>\n",
       "      <td>478</td>\n",
       "      <td>476</td>\n",
       "      <td>471</td>\n",
       "      <td>460</td>\n",
       "      <td>449</td>\n",
       "      <td>445</td>\n",
       "    </tr>\n",
       "  </tbody>\n",
       "</table>\n",
       "</div>"
      ],
      "text/plain": [
       "   lady  customers  going  got  did  tell  guy  want  didnt  asked  came  \\\n",
       "0   635        634    557  548  526   523  515   510    496    481   478   \n",
       "\n",
       "   help  right  come  comes  items  \n",
       "0   476    471   460    449    445  "
      ]
     },
     "execution_count": 69,
     "metadata": {},
     "output_type": "execute_result"
    }
   ],
   "source": [
    "dfR_sort.iloc[:,14:30] # lady 20% more than guy"
   ]
  },
  {
   "cell_type": "code",
   "execution_count": 73,
   "id": "b628b044",
   "metadata": {},
   "outputs": [
    {
     "data": {
      "text/html": [
       "<div>\n",
       "<style scoped>\n",
       "    .dataframe tbody tr th:only-of-type {\n",
       "        vertical-align: middle;\n",
       "    }\n",
       "\n",
       "    .dataframe tbody tr th {\n",
       "        vertical-align: top;\n",
       "    }\n",
       "\n",
       "    .dataframe thead th {\n",
       "        text-align: right;\n",
       "    }\n",
       "</style>\n",
       "<table border=\"1\" class=\"dataframe\">\n",
       "  <thead>\n",
       "    <tr style=\"text-align: right;\">\n",
       "      <th></th>\n",
       "      <th>need</th>\n",
       "      <th>say</th>\n",
       "      <th>register</th>\n",
       "      <th>working</th>\n",
       "      <th>woman</th>\n",
       "      <th>card</th>\n",
       "      <th>really</th>\n",
       "      <th>phone</th>\n",
       "      <th>went</th>\n",
       "      <th>says</th>\n",
       "      <th>look</th>\n",
       "      <th>ask</th>\n",
       "      <th>minutes</th>\n",
       "      <th>happened</th>\n",
       "      <th>way</th>\n",
       "      <th>make</th>\n",
       "      <th>check</th>\n",
       "      <th>man</th>\n",
       "      <th>sorry</th>\n",
       "      <th>trying</th>\n",
       "    </tr>\n",
       "  </thead>\n",
       "  <tbody>\n",
       "    <tr>\n",
       "      <th>0</th>\n",
       "      <td>428</td>\n",
       "      <td>428</td>\n",
       "      <td>425</td>\n",
       "      <td>425</td>\n",
       "      <td>417</td>\n",
       "      <td>415</td>\n",
       "      <td>396</td>\n",
       "      <td>389</td>\n",
       "      <td>388</td>\n",
       "      <td>388</td>\n",
       "      <td>388</td>\n",
       "      <td>386</td>\n",
       "      <td>378</td>\n",
       "      <td>370</td>\n",
       "      <td>357</td>\n",
       "      <td>356</td>\n",
       "      <td>354</td>\n",
       "      <td>352</td>\n",
       "      <td>351</td>\n",
       "      <td>346</td>\n",
       "    </tr>\n",
       "  </tbody>\n",
       "</table>\n",
       "</div>"
      ],
      "text/plain": [
       "   need  say  register  working  woman  card  really  phone  went  says  look  \\\n",
       "0   428  428       425      425    417   415     396    389   388   388   388   \n",
       "\n",
       "   ask  minutes  happened  way  make  check  man  sorry  trying  \n",
       "0  386      378       370  357   356    354  352    351     346  "
      ]
     },
     "execution_count": 73,
     "metadata": {},
     "output_type": "execute_result"
    }
   ],
   "source": [
    "dfR_sort.iloc[:,30:50] # woman 20% more than man"
   ]
  },
  {
   "cell_type": "code",
   "execution_count": 63,
   "id": "6fb5d767",
   "metadata": {},
   "outputs": [
    {
     "data": {
      "text/plain": [
       "Index(['just', 'store', 'customer', 'like', 'im', 'time', 'manager', 'said',\n",
       "       'know', 'work', 'told', 'dont', 'people', 'day', 'lady', 'customers',\n",
       "       'going', 'got', 'did', 'tell', 'guy', 'want', 'didnt', 'asked', 'came',\n",
       "       'help', 'right', 'come', 'comes', 'items', 'need', 'say', 'register',\n",
       "       'working', 'woman', 'card', 'really', 'phone', 'went', 'says', 'look',\n",
       "       'ask', 'minutes', 'happened', 'way', 'make', 'check', 'man', 'sorry',\n",
       "       'trying'],\n",
       "      dtype='object')"
      ]
     },
     "execution_count": 63,
     "metadata": {},
     "output_type": "execute_result"
    }
   ],
   "source": [
    "dfR_sort.iloc[:,:50].columns"
   ]
  },
  {
   "cell_type": "code",
   "execution_count": 64,
   "id": "29a57507",
   "metadata": {},
   "outputs": [
    {
     "data": {
      "text/plain": [
       "Index(['just', 'like', 'im', 'mom', 'time', 'know', 'feel', 'parents', 'dont',\n",
       "       'dad', 'told', 'want', 'things', 'said', 'life', 'really', 'mother',\n",
       "       'family', 'years', 'going', 'did', 'got', 'people', 'way', 'think',\n",
       "       'don', 'didnt', 'home', 'say', 'house', 'make', 'day', 'help', 'ive',\n",
       "       'sister', 'need', 'tell', 'year', 'having', 'bad', 'school', 'trying',\n",
       "       'went', 'good', 'care', 'talk', 'away', 'nmom', 'friends', 'abuse'],\n",
       "      dtype='object')"
      ]
     },
     "execution_count": 64,
     "metadata": {},
     "output_type": "execute_result"
    }
   ],
   "source": [
    "dfN_sort.iloc[:,:50].columns"
   ]
  }
 ],
 "metadata": {
  "kernelspec": {
   "display_name": "Python 3 (ipykernel)",
   "language": "python",
   "name": "python3"
  },
  "language_info": {
   "codemirror_mode": {
    "name": "ipython",
    "version": 3
   },
   "file_extension": ".py",
   "mimetype": "text/x-python",
   "name": "python",
   "nbconvert_exporter": "python",
   "pygments_lexer": "ipython3",
   "version": "3.8.8"
  }
 },
 "nbformat": 4,
 "nbformat_minor": 5
}
