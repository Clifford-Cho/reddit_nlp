{
 "cells": [
  {
   "cell_type": "markdown",
   "id": "c4fd5616",
   "metadata": {},
   "source": [
    "# Reddit Analysis using Pushshift API\n",
    "\n",
    "## Part 2: Data Cleaning and Preliminary Analysis\n",
    "- [Data Cleaning](#Data-Cleaning)\n",
    "- [Preliminary Analysis](#Preliminary-Analysis)"
   ]
  },
  {
   "cell_type": "code",
   "execution_count": 93,
   "id": "cbb016ca",
   "metadata": {},
   "outputs": [],
   "source": [
    "# Import libaries\n",
    "import pandas as pd\n",
    "import numpy as np\n",
    "import re\n",
    "import string"
   ]
  },
  {
   "cell_type": "code",
   "execution_count": 94,
   "id": "6ea6efda",
   "metadata": {},
   "outputs": [],
   "source": [
    "# Import csv files\n",
    "dfN = pd.read_csv('../data/narcissists.csv', index_col = 0, )\n",
    "dfR = pd.read_csv('../data/retail.csv', index_col = 0)"
   ]
  },
  {
   "cell_type": "markdown",
   "id": "dccf281a",
   "metadata": {},
   "source": [
    "# Data Cleaning"
   ]
  },
  {
   "cell_type": "code",
   "execution_count": 95,
   "id": "cef9b598",
   "metadata": {},
   "outputs": [],
   "source": [
    "# Reduce data into relevant data\n",
    "df_cols = ['id', 'title', 'selftext', 'subreddit', 'num_comments']\n",
    "\n",
    "# Drop posts with removed or null text\n",
    "dfN = dfN[df_cols]\n",
    "dfN = dfN[dfN['selftext'] != '[removed]']\n",
    "dfN.dropna(inplace=True)\n",
    "\n",
    "dfR = dfR[df_cols]\n",
    "dfR = dfR[dfR['selftext'] != '[removed]']\n",
    "dfR.dropna(inplace=True);"
   ]
  },
  {
   "cell_type": "code",
   "execution_count": 96,
   "id": "5cf2215f",
   "metadata": {},
   "outputs": [
    {
     "name": "stdout",
     "output_type": "stream",
     "text": [
      "<class 'pandas.core.frame.DataFrame'>\n",
      "Int64Index: 927 entries, 0 to 999\n",
      "Data columns (total 5 columns):\n",
      " #   Column        Non-Null Count  Dtype \n",
      "---  ------        --------------  ----- \n",
      " 0   id            927 non-null    object\n",
      " 1   title         927 non-null    object\n",
      " 2   selftext      927 non-null    object\n",
      " 3   subreddit     927 non-null    object\n",
      " 4   num_comments  927 non-null    int64 \n",
      "dtypes: int64(1), object(4)\n",
      "memory usage: 43.5+ KB\n"
     ]
    }
   ],
   "source": [
    "# Check for nulls and dtypes\n",
    "dfN.info()"
   ]
  },
  {
   "cell_type": "code",
   "execution_count": 97,
   "id": "eda6960b",
   "metadata": {},
   "outputs": [
    {
     "name": "stdout",
     "output_type": "stream",
     "text": [
      "<class 'pandas.core.frame.DataFrame'>\n",
      "Int64Index: 987 entries, 1 to 4495\n",
      "Data columns (total 5 columns):\n",
      " #   Column        Non-Null Count  Dtype \n",
      "---  ------        --------------  ----- \n",
      " 0   id            987 non-null    object\n",
      " 1   title         987 non-null    object\n",
      " 2   selftext      987 non-null    object\n",
      " 3   subreddit     987 non-null    object\n",
      " 4   num_comments  987 non-null    int64 \n",
      "dtypes: int64(1), object(4)\n",
      "memory usage: 46.3+ KB\n"
     ]
    }
   ],
   "source": [
    "# Check for nulls and dtypes\n",
    "dfR.info()"
   ]
  },
  {
   "cell_type": "code",
   "execution_count": 98,
   "id": "e37e09b2",
   "metadata": {},
   "outputs": [
    {
     "data": {
      "text/plain": [
       "1    0.515674\n",
       "0    0.484326\n",
       "Name: subreddit, dtype: float64"
      ]
     },
     "execution_count": 98,
     "metadata": {},
     "output_type": "execute_result"
    }
   ],
   "source": [
    "# Get combined \n",
    "df = pd.concat([dfR, dfN]).reset_index(drop = True)\n",
    "\n",
    "# Binarize the subreddit column to function as the target\n",
    "df['subreddit'] = df['subreddit'].map(lambda x: 1 if x == 'TalesFromRetail' else 0)\n",
    "\n",
    "df['subreddit'].value_counts(normalize = True) # 51% is baseline"
   ]
  },
  {
   "cell_type": "code",
   "execution_count": 99,
   "id": "58f7ead4",
   "metadata": {},
   "outputs": [],
   "source": [
    "# Get column with combined full text\n",
    "df['text'] = df['title'] + [' ' for i in range(len(df['title']))] + df['selftext']\n",
    "df = df.drop('title', axis = 1)\n",
    "df = df.drop('selftext', axis = 1)\n",
    "\n",
    "# Get additional columns\n",
    "df['text_len'] = [len(text) for text in df['text']]\n",
    "df['word_count'] = [len(text.split(' ')) for text in df['text']]"
   ]
  },
  {
   "cell_type": "code",
   "execution_count": 100,
   "id": "173ff781",
   "metadata": {},
   "outputs": [
    {
     "data": {
      "text/plain": [
       "'!\"#$%&\\'()*+,-./:;<=>?@[\\\\]^_`{|}~'"
      ]
     },
     "execution_count": 100,
     "metadata": {},
     "output_type": "execute_result"
    }
   ],
   "source": [
    "string.punctuation"
   ]
  },
  {
   "cell_type": "code",
   "execution_count": 101,
   "id": "862aadf7",
   "metadata": {},
   "outputs": [],
   "source": [
    "# Clean text punctuation\n",
    "df['text'] = [text.replace('\\n', '') for text in df.text]\n",
    "df['text'] = [text.replace(\"'\", '') for text in df.text]\n",
    "for char in string.punctuation:\n",
    "    df['text'] = [text.replace(char, ' ') for text in df.text]\n",
    "    \n",
    "# Remove all numbers\n",
    "df['text'] = [re.sub('[0-9]+', '', text).strip() for text in df.text]\n",
    "\n",
    "# Drop any duplicates\n",
    "df = df.drop_duplicates('text')"
   ]
  },
  {
   "cell_type": "code",
   "execution_count": 102,
   "id": "91520a70",
   "metadata": {},
   "outputs": [],
   "source": [
    "# Reorganize subreddit dataframes for easier access\n",
    "dfR = df[df['subreddit'] == 1].reset_index(drop = True)\n",
    "dfN = df[df['subreddit'] != 1].reset_index(drop = True)"
   ]
  },
  {
   "cell_type": "markdown",
   "id": "5cde03c8",
   "metadata": {},
   "source": [
    "# Preliminary Analysis"
   ]
  },
  {
   "cell_type": "code",
   "execution_count": 103,
   "id": "fc227680",
   "metadata": {},
   "outputs": [
    {
     "data": {
      "text/html": [
       "<div>\n",
       "<style scoped>\n",
       "    .dataframe tbody tr th:only-of-type {\n",
       "        vertical-align: middle;\n",
       "    }\n",
       "\n",
       "    .dataframe tbody tr th {\n",
       "        vertical-align: top;\n",
       "    }\n",
       "\n",
       "    .dataframe thead th {\n",
       "        text-align: right;\n",
       "    }\n",
       "</style>\n",
       "<table border=\"1\" class=\"dataframe\">\n",
       "  <thead>\n",
       "    <tr style=\"text-align: right;\">\n",
       "      <th></th>\n",
       "      <th>subreddit</th>\n",
       "      <th>num_comments</th>\n",
       "      <th>text_len</th>\n",
       "      <th>word_count</th>\n",
       "    </tr>\n",
       "  </thead>\n",
       "  <tbody>\n",
       "    <tr>\n",
       "      <th>count</th>\n",
       "      <td>923.0</td>\n",
       "      <td>923.000000</td>\n",
       "      <td>923.000000</td>\n",
       "      <td>923.000000</td>\n",
       "    </tr>\n",
       "    <tr>\n",
       "      <th>mean</th>\n",
       "      <td>0.0</td>\n",
       "      <td>10.570964</td>\n",
       "      <td>1676.583965</td>\n",
       "      <td>318.728061</td>\n",
       "    </tr>\n",
       "    <tr>\n",
       "      <th>std</th>\n",
       "      <td>0.0</td>\n",
       "      <td>34.191151</td>\n",
       "      <td>1818.098432</td>\n",
       "      <td>346.976258</td>\n",
       "    </tr>\n",
       "    <tr>\n",
       "      <th>min</th>\n",
       "      <td>0.0</td>\n",
       "      <td>0.000000</td>\n",
       "      <td>11.000000</td>\n",
       "      <td>2.000000</td>\n",
       "    </tr>\n",
       "    <tr>\n",
       "      <th>25%</th>\n",
       "      <td>0.0</td>\n",
       "      <td>2.000000</td>\n",
       "      <td>606.500000</td>\n",
       "      <td>117.500000</td>\n",
       "    </tr>\n",
       "    <tr>\n",
       "      <th>50%</th>\n",
       "      <td>0.0</td>\n",
       "      <td>4.000000</td>\n",
       "      <td>1190.000000</td>\n",
       "      <td>225.000000</td>\n",
       "    </tr>\n",
       "    <tr>\n",
       "      <th>75%</th>\n",
       "      <td>0.0</td>\n",
       "      <td>8.000000</td>\n",
       "      <td>2067.000000</td>\n",
       "      <td>389.000000</td>\n",
       "    </tr>\n",
       "    <tr>\n",
       "      <th>max</th>\n",
       "      <td>0.0</td>\n",
       "      <td>764.000000</td>\n",
       "      <td>18690.000000</td>\n",
       "      <td>3687.000000</td>\n",
       "    </tr>\n",
       "  </tbody>\n",
       "</table>\n",
       "</div>"
      ],
      "text/plain": [
       "       subreddit  num_comments      text_len   word_count\n",
       "count      923.0    923.000000    923.000000   923.000000\n",
       "mean         0.0     10.570964   1676.583965   318.728061\n",
       "std          0.0     34.191151   1818.098432   346.976258\n",
       "min          0.0      0.000000     11.000000     2.000000\n",
       "25%          0.0      2.000000    606.500000   117.500000\n",
       "50%          0.0      4.000000   1190.000000   225.000000\n",
       "75%          0.0      8.000000   2067.000000   389.000000\n",
       "max          0.0    764.000000  18690.000000  3687.000000"
      ]
     },
     "execution_count": 103,
     "metadata": {},
     "output_type": "execute_result"
    }
   ],
   "source": [
    "dfN.describe()"
   ]
  },
  {
   "cell_type": "code",
   "execution_count": 104,
   "id": "71cac828",
   "metadata": {},
   "outputs": [
    {
     "data": {
      "text/html": [
       "<div>\n",
       "<style scoped>\n",
       "    .dataframe tbody tr th:only-of-type {\n",
       "        vertical-align: middle;\n",
       "    }\n",
       "\n",
       "    .dataframe tbody tr th {\n",
       "        vertical-align: top;\n",
       "    }\n",
       "\n",
       "    .dataframe thead th {\n",
       "        text-align: right;\n",
       "    }\n",
       "</style>\n",
       "<table border=\"1\" class=\"dataframe\">\n",
       "  <thead>\n",
       "    <tr style=\"text-align: right;\">\n",
       "      <th></th>\n",
       "      <th>subreddit</th>\n",
       "      <th>num_comments</th>\n",
       "      <th>text_len</th>\n",
       "      <th>word_count</th>\n",
       "    </tr>\n",
       "  </thead>\n",
       "  <tbody>\n",
       "    <tr>\n",
       "      <th>count</th>\n",
       "      <td>959.0</td>\n",
       "      <td>959.000000</td>\n",
       "      <td>959.000000</td>\n",
       "      <td>959.000000</td>\n",
       "    </tr>\n",
       "    <tr>\n",
       "      <th>mean</th>\n",
       "      <td>1.0</td>\n",
       "      <td>44.284672</td>\n",
       "      <td>1942.089677</td>\n",
       "      <td>369.955162</td>\n",
       "    </tr>\n",
       "    <tr>\n",
       "      <th>std</th>\n",
       "      <td>0.0</td>\n",
       "      <td>62.245400</td>\n",
       "      <td>1124.518814</td>\n",
       "      <td>214.612694</td>\n",
       "    </tr>\n",
       "    <tr>\n",
       "      <th>min</th>\n",
       "      <td>1.0</td>\n",
       "      <td>0.000000</td>\n",
       "      <td>20.000000</td>\n",
       "      <td>2.000000</td>\n",
       "    </tr>\n",
       "    <tr>\n",
       "      <th>25%</th>\n",
       "      <td>1.0</td>\n",
       "      <td>7.000000</td>\n",
       "      <td>1139.500000</td>\n",
       "      <td>216.500000</td>\n",
       "    </tr>\n",
       "    <tr>\n",
       "      <th>50%</th>\n",
       "      <td>1.0</td>\n",
       "      <td>22.000000</td>\n",
       "      <td>1650.000000</td>\n",
       "      <td>313.000000</td>\n",
       "    </tr>\n",
       "    <tr>\n",
       "      <th>75%</th>\n",
       "      <td>1.0</td>\n",
       "      <td>54.000000</td>\n",
       "      <td>2467.000000</td>\n",
       "      <td>472.000000</td>\n",
       "    </tr>\n",
       "    <tr>\n",
       "      <th>max</th>\n",
       "      <td>1.0</td>\n",
       "      <td>602.000000</td>\n",
       "      <td>10149.000000</td>\n",
       "      <td>2006.000000</td>\n",
       "    </tr>\n",
       "  </tbody>\n",
       "</table>\n",
       "</div>"
      ],
      "text/plain": [
       "       subreddit  num_comments      text_len   word_count\n",
       "count      959.0    959.000000    959.000000   959.000000\n",
       "mean         1.0     44.284672   1942.089677   369.955162\n",
       "std          0.0     62.245400   1124.518814   214.612694\n",
       "min          1.0      0.000000     20.000000     2.000000\n",
       "25%          1.0      7.000000   1139.500000   216.500000\n",
       "50%          1.0     22.000000   1650.000000   313.000000\n",
       "75%          1.0     54.000000   2467.000000   472.000000\n",
       "max          1.0    602.000000  10149.000000  2006.000000"
      ]
     },
     "execution_count": 104,
     "metadata": {},
     "output_type": "execute_result"
    }
   ],
   "source": [
    "dfR.describe()"
   ]
  },
  {
   "cell_type": "code",
   "execution_count": 107,
   "id": "cd8f81ab",
   "metadata": {},
   "outputs": [
    {
     "data": {
      "text/plain": [
       "((1882, 6), (923, 6), (959, 6))"
      ]
     },
     "execution_count": 107,
     "metadata": {},
     "output_type": "execute_result"
    }
   ],
   "source": [
    "df.shape, dfN.shape, dfR.shape"
   ]
  },
  {
   "cell_type": "code",
   "execution_count": 105,
   "id": "223e063e",
   "metadata": {
    "scrolled": true
   },
   "outputs": [
    {
     "data": {
      "text/plain": [
       "'In a couple hours Im going to talk to someone outside of my family about my Ndad for the first time  In pretty nervous and kind of scared  My dad is very nice to everyone except for my family  Everyone likes him and people always tell me how lucky I am to have such a great dad  This is one of the many reasons why Ive never told anyone  but Im going to do it now One of the things that Im scared of is that they wont believe me  My dad always tell me that no one cares about me and they just pretend to tolerate me to be nice  Plus  wow  a teenager complaining about one of their parents  What a surprise  In my head Im pretty sure theyll believe me because theyre a good person  but my whole life of getting threatened so I dont tell anyone and  well  all the other stuff hes done has me pretty scared Im also scared that I wont be able to explain things properly  Ive only talked about this to my siblings before and they know already so theres no need to explain the abuse  Im always really bad at explaining things and Ill also probably be crying a lot  so Im not sure how well I can make the situation clear  Ive been thinking about this for a while and Im getting pretty anxious  If you have any advice then thanks a lot'"
      ]
     },
     "execution_count": 105,
     "metadata": {},
     "output_type": "execute_result"
    }
   ],
   "source": [
    "# Example text from r/raisedbynarcissists\n",
    "text = dfN['text'][4]\n",
    "text.strip()"
   ]
  },
  {
   "cell_type": "code",
   "execution_count": 106,
   "id": "cd25a6bc",
   "metadata": {
    "scrolled": true
   },
   "outputs": [
    {
     "data": {
      "text/plain": [
       "'From The Lights to The Darkness There was a man named John who was the Minister of Defense and he had six children and his wife was pregnant with the seventh and the time of her birth came and on the day she gave birth to the seventh her baby died while she was giving birth to him  so she broke down and she was depressed and severely sad for many months One day  she saw people adopting a child in the orphanage  so she ran to his wife and called him Elizabeth  John  I want to adopt a child from the orphanage  and I want you to come right away John  Really   Isnt the death of our baby enough for you and dont forget that we have  children and we can take care of them Elizabeth  But I want to make an orphan happy and fulfill the promise of his mother and father  and I want them to rest these poor orphans John  Its okay  Ill come to you He reached the orphanage and saw the child who wanted him  and his skin color was tan  so he was disgusted with him  John said   You only searched for this  why do you want this child   Elizabeth  I saw him and loved him  and you have nothing to do with me This child was  months old and was raised by Elizabeth and grew up to be  years old and this childs name was Raiden John decided to go camping with his family He was playing with his children the game of searching for treasure and they were all excited and happy and Raiden was watching them from afar and he was living for a moment and imagining that he was the hero who would get the treasure Suddenly he went to his brothers He said  I want to play with you and get the treasure One of his brothers  whose name is Kevin  said  If you want to play with us  you have to be the thief and we are the pirates and their destination is the thief  the liar traitor and not one of them   Raiden agreed and went looking for him or they threw stones at him and beat him with sticks and they ran away and then it rained and he was crying and in pain in the rain and after three hours his mother came out of the hut to look for him and found him wet and unconscious and she was screaming and took him to the nearest hospital The doctors treated him and he was fine  but every day he remembers that incident and dreams about it and every day he gets scared and screams and remembers the shapes of his brothers as if they were monsters that look like shadows  In a chair between the darkness with his head on the ground and thinking about the monsters around him  they were whispering to him Rayden was a hard working boy  the smartest in the whole school  and the teachers called him the Great Plan of America because he loved planning and strategies  and he was the first in his school from the age of  to   but between all the years he had no friends and he was always a shy person and did not like to talk He did not speak or utter a word to anyone  and between the years he was bullied by his brothers and friends at school So he was in high school at the age of   and he started the new year in high school  days and weeks passed  and he was in the same condition  And he was always watching her and seeing her  and everything he tried to talk to her was afraid and nervous and ran away so as not to embarrass himself  One day  a school party came and he wanted to invite her to the party  but he was nervous  but this time he was encouraged and decided to talk to her  so he went to her Raiden said   I want to invite you to the school party  and I hope youll agree   Jennifer said  Um  I really dont know  but I have no doubts  Raidens brother came and spoiled everything and said   Oh  brother  I found you  I want to talk to you about an important topic  Oh Jennifer  hello  just a minute  I want my brother on a topic   Jennifer  Its okay  take your time with him Kevin Raiden took him and his friends to the basement of the school  mocked him  tied the ropes  and locked him in the basement laughing  He untied it by chance and went looking for things and things in the basement  until he found a hammer and went to the door And he broke the door with the hammer  but he got out and ran and fled to the forests and heavy rain crying and hearing voices of whispering and laughter and heavy and terrifying sounds  And he woke up in the hospital and his mother was crying  and his father saw him from afar and smiled a malicious smile and said to his mother  Raiden  Where am I and what happened  His mother Elizabeth says  We called the police and they searched for you and found you in the woods fainting And he went home full of grudges  hatred and negative feelings And everything overwhelms him with depression  but the boy who was sitting in the dark and whispers comes to him and only wants to kill has woken up  to be continued       And this is my first story i know their alot of Spelling errors so yea'"
      ]
     },
     "execution_count": 106,
     "metadata": {},
     "output_type": "execute_result"
    }
   ],
   "source": [
    "# Example text from r/TalesFromRetail\n",
    "dfR['text'][0]"
   ]
  },
  {
   "cell_type": "code",
   "execution_count": 108,
   "id": "d6d90c6f",
   "metadata": {},
   "outputs": [],
   "source": [
    "# Export cleaned data\n",
    "df.to_csv('../data/cleaned.csv')\n",
    "dfR.to_csv('../data/clean_retail.csv')\n",
    "dfN.to_csv('../data/clean_narc.csv')"
   ]
  }
 ],
 "metadata": {
  "kernelspec": {
   "display_name": "Python 3",
   "language": "python",
   "name": "python3"
  },
  "language_info": {
   "codemirror_mode": {
    "name": "ipython",
    "version": 3
   },
   "file_extension": ".py",
   "mimetype": "text/x-python",
   "name": "python",
   "nbconvert_exporter": "python",
   "pygments_lexer": "ipython3",
   "version": "3.8.8"
  }
 },
 "nbformat": 4,
 "nbformat_minor": 5
}
