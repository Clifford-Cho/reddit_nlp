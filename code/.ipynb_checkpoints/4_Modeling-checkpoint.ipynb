{
 "cells": [
  {
   "cell_type": "markdown",
   "id": "49d3e2db",
   "metadata": {},
   "source": [
    "# Reddit Analysis using Pushshift API\n",
    "\n",
    "## Part 4: Modeling\n",
    "- [Stop Words](#Stop-Words)\n",
    "- [Preliminary Analysis](#Preliminary-Analysis)\n",
    "- [Modeling](#Classification)\n",
    "    - [Logistic Regression](#Logistic-Regression)\n",
    "    - [KNN Classifier](#KNN-Classifier)\n",
    "    - [Random Forest Classifier](#Random-Forest-Classifier)\n",
    "- [Conclusion and Recommendations](#Conclusion-and-Recommendations)"
   ]
  },
  {
   "cell_type": "code",
   "execution_count": 1,
   "id": "2a742bee",
   "metadata": {},
   "outputs": [],
   "source": [
    "# Import libaries\n",
    "import pandas as pd\n",
    "import numpy as np\n",
    "import matplotlib.pyplot as plt\n",
    "import seaborn as sns\n",
    "\n",
    "# Models\n",
    "from sklearn.linear_model import LogisticRegression\n",
    "from sklearn.neighbors import KNeighborsClassifier\n",
    "from sklearn.ensemble import RandomForestClassifier\n",
    "\n",
    "# NLP\n",
    "from sklearn.feature_extraction.text import TfidfVectorizer\n",
    "import nltk\n",
    "from nltk.stem.porter import *\n",
    "from nltk.stem import PorterStemmer\n",
    "\n",
    "from sklearn.pipeline import Pipeline\n",
    "from sklearn.model_selection import train_test_split, cross_val_score, GridSearchCV, KFold\n",
    "from sklearn.metrics import plot_confusion_matrix"
   ]
  },
  {
   "cell_type": "code",
   "execution_count": 3,
   "id": "efd036f5",
   "metadata": {},
   "outputs": [],
   "source": [
    "# Import data\n",
    "df = pd.read_csv('../data/cleaned.csv', lineterminator='\\n', index_col=0)"
   ]
  },
  {
   "cell_type": "markdown",
   "id": "e8ba4f0a",
   "metadata": {},
   "source": [
    "# Stop Words"
   ]
  },
  {
   "cell_type": "code",
   "execution_count": 4,
   "id": "cbeb4551",
   "metadata": {},
   "outputs": [],
   "source": [
    "# Better stop words using top 20 words from both subreddits\n",
    "# r/raisedbynarcissists\n",
    "stopN = ['just', 'like', 'im', 'mom', 'time', 'know', 'feel', 'parents', 'dont',\n",
    "         'dad', 'told', 'want', 'things', 'said', 'life', 'really', 'mother',\n",
    "         'family', 'years', 'going']\n",
    "\n",
    "# r/TalesFromRetail\n",
    "stopR = ['just', 'store', 'customer', 'like', 'im', 'time', 'manager', 'said',\n",
    "         'know', 'work', 'told', 'dont', 'people', 'day', 'lady', 'customers',\n",
    "         'going', 'got', 'did', 'tell']\n",
    "\n",
    "# 'english'\n",
    "stopE = list(TfidfVectorizer(stop_words = 'english').get_stop_words())\n",
    "\n",
    "# Special stop words observed in previous section\n",
    "stopS = ['monkey', 'nmom', 'ndad', 'nmother', 'nfather', 'abuse', 'abusive', \n",
    "        'grocery', 'father', 'sister', 'brother',\n",
    "        'narc', 'narcissist', 'narcissistic', 'retail', 'year', 'old',\n",
    "        'lady', 'guy', 'home', 'house', 'school', 'subreddit', 'reddit']\n",
    "\n",
    "new_stop_words = list(set(stopN + stopR + stopE + stopS))"
   ]
  },
  {
   "cell_type": "markdown",
   "id": "7d2df096",
   "metadata": {},
   "source": [
    "# Preliminary Model"
   ]
  },
  {
   "cell_type": "code",
   "execution_count": 5,
   "id": "adce067d",
   "metadata": {},
   "outputs": [
    {
     "name": "stdout",
     "output_type": "stream",
     "text": [
      "['The', 'quick', 'brown', 'fox', 'jumped', 'over', 'the', 'lazy', 'dog']\n"
     ]
    },
    {
     "data": {
      "text/plain": [
       "['the', 'quick', 'brown', 'fox', 'jump', 'lazi', 'dog']"
      ]
     },
     "execution_count": 5,
     "metadata": {},
     "output_type": "execute_result"
    }
   ],
   "source": [
    "# Custom tokenizer\n",
    "stemmer = PorterStemmer()\n",
    "sentence = 'The quick brown fox jumped over the lazy dog'\n",
    "tokenizer = TfidfVectorizer().build_tokenizer()\n",
    "\n",
    "def my_custom_tokenizer(text):\n",
    "    tokens = tokenizer(text)\n",
    "    stems = [stemmer.stem(token) for token in tokens if token not in new_stop_words]\n",
    "    return stems\n",
    "\n",
    "print(tokenizer(sentence))\n",
    "my_custom_tokenizer(sentence)"
   ]
  },
  {
   "cell_type": "code",
   "execution_count": 6,
   "id": "29d91f1b",
   "metadata": {},
   "outputs": [],
   "source": [
    "# Features and target\n",
    "X = df['text']\n",
    "y = df['subreddit']\n",
    "\n",
    "X_train, X_test, y_train, y_test = train_test_split(X, y, random_state=42)"
   ]
  },
  {
   "cell_type": "code",
   "execution_count": 7,
   "id": "0e9cf7ed",
   "metadata": {},
   "outputs": [
    {
     "data": {
      "text/plain": [
       "1    0.509564\n",
       "0    0.490436\n",
       "Name: subreddit, dtype: float64"
      ]
     },
     "execution_count": 7,
     "metadata": {},
     "output_type": "execute_result"
    }
   ],
   "source": [
    "# Baseline accuracy\n",
    "y.value_counts(normalize = True) # Reminder: 51% of the posts come from TalesFromRetail"
   ]
  },
  {
   "cell_type": "code",
   "execution_count": 8,
   "id": "5f4dfcfa",
   "metadata": {},
   "outputs": [
    {
     "name": "stdout",
     "output_type": "stream",
     "text": [
      "0.9879482745658221\n"
     ]
    },
    {
     "data": {
      "text/plain": [
       "{}"
      ]
     },
     "execution_count": 8,
     "metadata": {},
     "output_type": "execute_result"
    }
   ],
   "source": [
    "# Test pipeline with no changes\n",
    "pipe = Pipeline([\n",
    "    ('tv', TfidfVectorizer(stop_words = 'english',\n",
    "                           strip_accents = 'ascii',\n",
    "                           norm = 'l2')),\n",
    "    ('lr', LogisticRegression())\n",
    "])\n",
    "\n",
    "params = {}\n",
    "gs = GridSearchCV(pipe, param_grid=params)\n",
    "gs.fit(X_train, y_train)\n",
    "print(gs.best_score_) # cross-val\n",
    "gs.best_params_"
   ]
  },
  {
   "cell_type": "code",
   "execution_count": 9,
   "id": "488c720c",
   "metadata": {
    "scrolled": true
   },
   "outputs": [
    {
     "name": "stderr",
     "output_type": "stream",
     "text": [
      "/home/clifford/anaconda3/lib/python3.8/site-packages/sklearn/feature_extraction/text.py:489: UserWarning: The parameter 'token_pattern' will not be used since 'tokenizer' is not None'\n",
      "  warnings.warn(\"The parameter 'token_pattern' will not be used\"\n"
     ]
    },
    {
     "data": {
      "text/html": [
       "<div>\n",
       "<style scoped>\n",
       "    .dataframe tbody tr th:only-of-type {\n",
       "        vertical-align: middle;\n",
       "    }\n",
       "\n",
       "    .dataframe tbody tr th {\n",
       "        vertical-align: top;\n",
       "    }\n",
       "\n",
       "    .dataframe thead th {\n",
       "        text-align: right;\n",
       "    }\n",
       "</style>\n",
       "<table border=\"1\" class=\"dataframe\">\n",
       "  <thead>\n",
       "    <tr style=\"text-align: right;\">\n",
       "      <th></th>\n",
       "      <th>abl</th>\n",
       "      <th>absolut</th>\n",
       "      <th>abus</th>\n",
       "      <th>accept</th>\n",
       "      <th>account</th>\n",
       "      <th>act</th>\n",
       "      <th>activ</th>\n",
       "      <th>actual</th>\n",
       "      <th>add</th>\n",
       "      <th>admit</th>\n",
       "      <th>...</th>\n",
       "      <th>wrong</th>\n",
       "      <th>xb</th>\n",
       "      <th>ye</th>\n",
       "      <th>yeah</th>\n",
       "      <th>yell</th>\n",
       "      <th>yesterday</th>\n",
       "      <th>young</th>\n",
       "      <th>younger</th>\n",
       "      <th>youv</th>\n",
       "      <th>subreddit</th>\n",
       "    </tr>\n",
       "  </thead>\n",
       "  <tbody>\n",
       "    <tr>\n",
       "      <th>0</th>\n",
       "      <td>0.000000</td>\n",
       "      <td>0.000000</td>\n",
       "      <td>0.000000</td>\n",
       "      <td>0.0</td>\n",
       "      <td>0.00000</td>\n",
       "      <td>0.000000</td>\n",
       "      <td>0.0</td>\n",
       "      <td>0.000000</td>\n",
       "      <td>0.0</td>\n",
       "      <td>0.0</td>\n",
       "      <td>...</td>\n",
       "      <td>0.000000</td>\n",
       "      <td>0.0</td>\n",
       "      <td>0.000000</td>\n",
       "      <td>0.000000</td>\n",
       "      <td>0.000000</td>\n",
       "      <td>0.000000</td>\n",
       "      <td>0.000000</td>\n",
       "      <td>0.000000</td>\n",
       "      <td>0.0</td>\n",
       "      <td>1.0</td>\n",
       "    </tr>\n",
       "    <tr>\n",
       "      <th>492</th>\n",
       "      <td>0.000000</td>\n",
       "      <td>0.000000</td>\n",
       "      <td>0.000000</td>\n",
       "      <td>0.0</td>\n",
       "      <td>0.00000</td>\n",
       "      <td>0.000000</td>\n",
       "      <td>0.0</td>\n",
       "      <td>0.000000</td>\n",
       "      <td>0.0</td>\n",
       "      <td>0.0</td>\n",
       "      <td>...</td>\n",
       "      <td>0.071324</td>\n",
       "      <td>0.0</td>\n",
       "      <td>0.000000</td>\n",
       "      <td>0.000000</td>\n",
       "      <td>0.000000</td>\n",
       "      <td>0.000000</td>\n",
       "      <td>0.000000</td>\n",
       "      <td>0.000000</td>\n",
       "      <td>0.0</td>\n",
       "      <td>1.0</td>\n",
       "    </tr>\n",
       "    <tr>\n",
       "      <th>649</th>\n",
       "      <td>0.000000</td>\n",
       "      <td>0.000000</td>\n",
       "      <td>0.000000</td>\n",
       "      <td>0.0</td>\n",
       "      <td>0.00000</td>\n",
       "      <td>0.000000</td>\n",
       "      <td>0.0</td>\n",
       "      <td>0.000000</td>\n",
       "      <td>0.0</td>\n",
       "      <td>0.0</td>\n",
       "      <td>...</td>\n",
       "      <td>0.000000</td>\n",
       "      <td>0.0</td>\n",
       "      <td>0.000000</td>\n",
       "      <td>0.000000</td>\n",
       "      <td>0.000000</td>\n",
       "      <td>0.048444</td>\n",
       "      <td>0.000000</td>\n",
       "      <td>0.000000</td>\n",
       "      <td>0.0</td>\n",
       "      <td>1.0</td>\n",
       "    </tr>\n",
       "    <tr>\n",
       "      <th>650</th>\n",
       "      <td>0.000000</td>\n",
       "      <td>0.000000</td>\n",
       "      <td>0.000000</td>\n",
       "      <td>0.0</td>\n",
       "      <td>0.00000</td>\n",
       "      <td>0.000000</td>\n",
       "      <td>0.0</td>\n",
       "      <td>0.000000</td>\n",
       "      <td>0.0</td>\n",
       "      <td>0.0</td>\n",
       "      <td>...</td>\n",
       "      <td>0.000000</td>\n",
       "      <td>0.0</td>\n",
       "      <td>0.000000</td>\n",
       "      <td>0.000000</td>\n",
       "      <td>0.052727</td>\n",
       "      <td>0.062509</td>\n",
       "      <td>0.000000</td>\n",
       "      <td>0.000000</td>\n",
       "      <td>0.0</td>\n",
       "      <td>1.0</td>\n",
       "    </tr>\n",
       "    <tr>\n",
       "      <th>651</th>\n",
       "      <td>0.000000</td>\n",
       "      <td>0.000000</td>\n",
       "      <td>0.000000</td>\n",
       "      <td>0.0</td>\n",
       "      <td>0.00000</td>\n",
       "      <td>0.000000</td>\n",
       "      <td>0.0</td>\n",
       "      <td>0.000000</td>\n",
       "      <td>0.0</td>\n",
       "      <td>0.0</td>\n",
       "      <td>...</td>\n",
       "      <td>0.000000</td>\n",
       "      <td>0.0</td>\n",
       "      <td>0.000000</td>\n",
       "      <td>0.000000</td>\n",
       "      <td>0.000000</td>\n",
       "      <td>0.000000</td>\n",
       "      <td>0.000000</td>\n",
       "      <td>0.000000</td>\n",
       "      <td>0.0</td>\n",
       "      <td>1.0</td>\n",
       "    </tr>\n",
       "    <tr>\n",
       "      <th>...</th>\n",
       "      <td>...</td>\n",
       "      <td>...</td>\n",
       "      <td>...</td>\n",
       "      <td>...</td>\n",
       "      <td>...</td>\n",
       "      <td>...</td>\n",
       "      <td>...</td>\n",
       "      <td>...</td>\n",
       "      <td>...</td>\n",
       "      <td>...</td>\n",
       "      <td>...</td>\n",
       "      <td>...</td>\n",
       "      <td>...</td>\n",
       "      <td>...</td>\n",
       "      <td>...</td>\n",
       "      <td>...</td>\n",
       "      <td>...</td>\n",
       "      <td>...</td>\n",
       "      <td>...</td>\n",
       "      <td>...</td>\n",
       "      <td>...</td>\n",
       "    </tr>\n",
       "    <tr>\n",
       "      <th>912</th>\n",
       "      <td>0.000000</td>\n",
       "      <td>0.080551</td>\n",
       "      <td>0.000000</td>\n",
       "      <td>0.0</td>\n",
       "      <td>0.00000</td>\n",
       "      <td>0.000000</td>\n",
       "      <td>0.0</td>\n",
       "      <td>0.000000</td>\n",
       "      <td>0.0</td>\n",
       "      <td>0.0</td>\n",
       "      <td>...</td>\n",
       "      <td>0.060878</td>\n",
       "      <td>0.0</td>\n",
       "      <td>0.000000</td>\n",
       "      <td>0.000000</td>\n",
       "      <td>0.000000</td>\n",
       "      <td>0.000000</td>\n",
       "      <td>0.000000</td>\n",
       "      <td>0.000000</td>\n",
       "      <td>0.0</td>\n",
       "      <td>NaN</td>\n",
       "    </tr>\n",
       "    <tr>\n",
       "      <th>925</th>\n",
       "      <td>0.000000</td>\n",
       "      <td>0.000000</td>\n",
       "      <td>0.000000</td>\n",
       "      <td>0.0</td>\n",
       "      <td>0.00000</td>\n",
       "      <td>0.000000</td>\n",
       "      <td>0.0</td>\n",
       "      <td>0.000000</td>\n",
       "      <td>0.0</td>\n",
       "      <td>0.0</td>\n",
       "      <td>...</td>\n",
       "      <td>0.087647</td>\n",
       "      <td>0.0</td>\n",
       "      <td>0.000000</td>\n",
       "      <td>0.000000</td>\n",
       "      <td>0.000000</td>\n",
       "      <td>0.000000</td>\n",
       "      <td>0.000000</td>\n",
       "      <td>0.000000</td>\n",
       "      <td>0.0</td>\n",
       "      <td>NaN</td>\n",
       "    </tr>\n",
       "    <tr>\n",
       "      <th>998</th>\n",
       "      <td>0.000000</td>\n",
       "      <td>0.000000</td>\n",
       "      <td>0.000000</td>\n",
       "      <td>0.0</td>\n",
       "      <td>0.00000</td>\n",
       "      <td>0.000000</td>\n",
       "      <td>0.0</td>\n",
       "      <td>0.000000</td>\n",
       "      <td>0.0</td>\n",
       "      <td>0.0</td>\n",
       "      <td>...</td>\n",
       "      <td>0.000000</td>\n",
       "      <td>0.0</td>\n",
       "      <td>0.000000</td>\n",
       "      <td>0.000000</td>\n",
       "      <td>0.000000</td>\n",
       "      <td>0.000000</td>\n",
       "      <td>0.000000</td>\n",
       "      <td>0.000000</td>\n",
       "      <td>0.0</td>\n",
       "      <td>NaN</td>\n",
       "    </tr>\n",
       "    <tr>\n",
       "      <th>1615</th>\n",
       "      <td>0.000000</td>\n",
       "      <td>0.000000</td>\n",
       "      <td>0.000000</td>\n",
       "      <td>0.0</td>\n",
       "      <td>0.10382</td>\n",
       "      <td>0.167098</td>\n",
       "      <td>0.0</td>\n",
       "      <td>0.000000</td>\n",
       "      <td>0.0</td>\n",
       "      <td>0.0</td>\n",
       "      <td>...</td>\n",
       "      <td>0.000000</td>\n",
       "      <td>0.0</td>\n",
       "      <td>0.079966</td>\n",
       "      <td>0.000000</td>\n",
       "      <td>0.000000</td>\n",
       "      <td>0.000000</td>\n",
       "      <td>0.097804</td>\n",
       "      <td>0.101745</td>\n",
       "      <td>0.0</td>\n",
       "      <td>NaN</td>\n",
       "    </tr>\n",
       "    <tr>\n",
       "      <th>1694</th>\n",
       "      <td>0.053247</td>\n",
       "      <td>0.032393</td>\n",
       "      <td>0.066227</td>\n",
       "      <td>0.0</td>\n",
       "      <td>0.00000</td>\n",
       "      <td>0.000000</td>\n",
       "      <td>0.0</td>\n",
       "      <td>0.117061</td>\n",
       "      <td>0.0</td>\n",
       "      <td>0.0</td>\n",
       "      <td>...</td>\n",
       "      <td>0.024482</td>\n",
       "      <td>0.0</td>\n",
       "      <td>0.026939</td>\n",
       "      <td>0.032018</td>\n",
       "      <td>0.027521</td>\n",
       "      <td>0.000000</td>\n",
       "      <td>0.000000</td>\n",
       "      <td>0.000000</td>\n",
       "      <td>0.0</td>\n",
       "      <td>NaN</td>\n",
       "    </tr>\n",
       "  </tbody>\n",
       "</table>\n",
       "<p>1882 rows × 719 columns</p>\n",
       "</div>"
      ],
      "text/plain": [
       "           abl   absolut      abus  accept  account       act  activ  \\\n",
       "0     0.000000  0.000000  0.000000     0.0  0.00000  0.000000    0.0   \n",
       "492   0.000000  0.000000  0.000000     0.0  0.00000  0.000000    0.0   \n",
       "649   0.000000  0.000000  0.000000     0.0  0.00000  0.000000    0.0   \n",
       "650   0.000000  0.000000  0.000000     0.0  0.00000  0.000000    0.0   \n",
       "651   0.000000  0.000000  0.000000     0.0  0.00000  0.000000    0.0   \n",
       "...        ...       ...       ...     ...      ...       ...    ...   \n",
       "912   0.000000  0.080551  0.000000     0.0  0.00000  0.000000    0.0   \n",
       "925   0.000000  0.000000  0.000000     0.0  0.00000  0.000000    0.0   \n",
       "998   0.000000  0.000000  0.000000     0.0  0.00000  0.000000    0.0   \n",
       "1615  0.000000  0.000000  0.000000     0.0  0.10382  0.167098    0.0   \n",
       "1694  0.053247  0.032393  0.066227     0.0  0.00000  0.000000    0.0   \n",
       "\n",
       "        actual  add  admit  ...     wrong   xb        ye      yeah      yell  \\\n",
       "0     0.000000  0.0    0.0  ...  0.000000  0.0  0.000000  0.000000  0.000000   \n",
       "492   0.000000  0.0    0.0  ...  0.071324  0.0  0.000000  0.000000  0.000000   \n",
       "649   0.000000  0.0    0.0  ...  0.000000  0.0  0.000000  0.000000  0.000000   \n",
       "650   0.000000  0.0    0.0  ...  0.000000  0.0  0.000000  0.000000  0.052727   \n",
       "651   0.000000  0.0    0.0  ...  0.000000  0.0  0.000000  0.000000  0.000000   \n",
       "...        ...  ...    ...  ...       ...  ...       ...       ...       ...   \n",
       "912   0.000000  0.0    0.0  ...  0.060878  0.0  0.000000  0.000000  0.000000   \n",
       "925   0.000000  0.0    0.0  ...  0.087647  0.0  0.000000  0.000000  0.000000   \n",
       "998   0.000000  0.0    0.0  ...  0.000000  0.0  0.000000  0.000000  0.000000   \n",
       "1615  0.000000  0.0    0.0  ...  0.000000  0.0  0.079966  0.000000  0.000000   \n",
       "1694  0.117061  0.0    0.0  ...  0.024482  0.0  0.026939  0.032018  0.027521   \n",
       "\n",
       "      yesterday     young   younger  youv  subreddit  \n",
       "0      0.000000  0.000000  0.000000   0.0        1.0  \n",
       "492    0.000000  0.000000  0.000000   0.0        1.0  \n",
       "649    0.048444  0.000000  0.000000   0.0        1.0  \n",
       "650    0.062509  0.000000  0.000000   0.0        1.0  \n",
       "651    0.000000  0.000000  0.000000   0.0        1.0  \n",
       "...         ...       ...       ...   ...        ...  \n",
       "912    0.000000  0.000000  0.000000   0.0        NaN  \n",
       "925    0.000000  0.000000  0.000000   0.0        NaN  \n",
       "998    0.000000  0.000000  0.000000   0.0        NaN  \n",
       "1615   0.000000  0.097804  0.101745   0.0        NaN  \n",
       "1694   0.000000  0.000000  0.000000   0.0        NaN  \n",
       "\n",
       "[1882 rows x 719 columns]"
      ]
     },
     "execution_count": 9,
     "metadata": {},
     "output_type": "execute_result"
    }
   ],
   "source": [
    "# Test modified TfidfVectorizer\n",
    "tvec = TfidfVectorizer(stop_words = new_stop_words,\n",
    "                           strip_accents = 'ascii',\n",
    "                           max_features = 2000,\n",
    "                           min_df = 0.025,\n",
    "                           norm = 'l2',\n",
    "                           tokenizer=my_custom_tokenizer)\n",
    "tvec.fit(df.text);\n",
    "\n",
    "# Create new dataframe to analyze tokens\n",
    "df_tvec = pd.DataFrame(tvec.transform(df.text).todense(),\n",
    "                       columns = tvec.get_feature_names())\n",
    "\n",
    "df_tvec['subreddit'] = df.subreddit\n",
    "\n",
    "df_tvec.sort_values('subreddit', ascending = False)"
   ]
  },
  {
   "cell_type": "code",
   "execution_count": 10,
   "id": "9a683acc",
   "metadata": {},
   "outputs": [
    {
     "data": {
      "text/plain": [
       "Index(['say', 'ask', 'tri', 'didnt', 'make', 'come', 'look', 'need', 'help',\n",
       "       'think', 'start', 'ive', 'talk', 'use', 'way', 'happen', 'live', 'leav',\n",
       "       'item', 'kid', 'right', 'walk', 'good', 'went', 'love', 'friend', 'let',\n",
       "       'point', 'job', 'phone', 'person', 'came', 'money', 'wasnt', 'away',\n",
       "       'regist', 'close', 'lot', 'card', 'thing', 'doesnt', 'check', 'thought',\n",
       "       'pay', 'stori', 'today', 'doe', 'care', 'woman'],\n",
       "      dtype='object')"
      ]
     },
     "execution_count": 10,
     "metadata": {},
     "output_type": "execute_result"
    }
   ],
   "source": [
    "# Look at top words\n",
    "ordered = pd.DataFrame(df_tvec.T.sum(axis = 1)).sort_values(0, ascending = False).T\n",
    "ordered.iloc[:,1:50].columns"
   ]
  },
  {
   "cell_type": "code",
   "execution_count": 11,
   "id": "958be7f7",
   "metadata": {},
   "outputs": [
    {
     "data": {
      "text/plain": [
       "Index(['week', 'buy', 'ill', 'order', 'minut', 'bad', 'left', 'end', 'littl',\n",
       "       'man', 'ago', 'sure', 'door', 'return', 'bag', 'hand', 'long', 'fuck',\n",
       "       'sorri', 'new', 'id', 'shop', 'car', 'stuff', 'explain', 'line',\n",
       "       'wrong', 'turn', 'actual', 'month', 'chang', 'wait', 'kind', 'final',\n",
       "       'open', 'post', 'child', 'later', 'thank', 'hate', 'room', 'cowork',\n",
       "       'amp', 'place', 'contact', 'deal', 'rememb', 'price', 'problem'],\n",
       "      dtype='object')"
      ]
     },
     "execution_count": 11,
     "metadata": {},
     "output_type": "execute_result"
    }
   ],
   "source": [
    "# Look at top words continued\n",
    "ordered = pd.DataFrame(df_tvec.T.sum(axis = 1)).sort_values(0, ascending = False).T\n",
    "ordered.iloc[:,51:100].columns"
   ]
  },
  {
   "cell_type": "markdown",
   "id": "1a94f5cb",
   "metadata": {},
   "source": [
    "# Modeling"
   ]
  },
  {
   "cell_type": "markdown",
   "id": "8645d3bb",
   "metadata": {},
   "source": [
    "## Logistic Regression"
   ]
  },
  {
   "cell_type": "code",
   "execution_count": 12,
   "id": "af6f9caf",
   "metadata": {},
   "outputs": [],
   "source": [
    "# Test Pipeline\n",
    "pipe = Pipeline([\n",
    "    ('tv', TfidfVectorizer()),\n",
    "    ('lr', LogisticRegression(n_jobs = -1))\n",
    "])"
   ]
  },
  {
   "cell_type": "code",
   "execution_count": null,
   "id": "abb69633",
   "metadata": {},
   "outputs": [],
   "source": [
    "# Test GridSearchCV\n",
    "params = {\n",
    "    'tv__max_df': [1.0, 0.8, 0.6, 0.4, 0.2],\n",
    "    'tv__min_df': [1, 0.01, 0.05, 0.1],\n",
    "    'tv__ngram_range': [(1, 1), (1, 2)]\n",
    "}\n",
    "\n",
    "gs = GridSearchCV(pipe, param_grid = params)\n",
    "gs.fit(X_train, y_train)\n",
    "print(f'The cross val score is {gs.best_score_}')\n",
    "gs.best_params_"
   ]
  },
  {
   "cell_type": "code",
   "execution_count": 20,
   "id": "9d7991bd",
   "metadata": {},
   "outputs": [],
   "source": [
    "# Modified Pipeline\n",
    "pipe = Pipeline([\n",
    "    ('tv', TfidfVectorizer(stop_words = new_stop_words,\n",
    "                           strip_accents = 'ascii',\n",
    "                           max_features = 2000,\n",
    "                           min_df = 0.1,\n",
    "                           norm = 'l2',\n",
    "                           tokenizer=my_custom_tokenizer)),\n",
    "    ('lr', LogisticRegression(n_jobs = -1))\n",
    "])"
   ]
  },
  {
   "cell_type": "code",
   "execution_count": 21,
   "id": "5fa1e41c",
   "metadata": {},
   "outputs": [
    {
     "name": "stdout",
     "output_type": "stream",
     "text": [
      "The cross val score is 0.9730571636217829\n"
     ]
    },
    {
     "data": {
      "text/plain": [
       "{'tv__max_df': 0.2, 'tv__min_df': 0.025, 'tv__ngram_range': (1, 1)}"
      ]
     },
     "execution_count": 21,
     "metadata": {},
     "output_type": "execute_result"
    }
   ],
   "source": [
    "# Test GridSearchCV\n",
    "params = {\n",
    "    'tv__max_df': [1.0, 0.8, 0.6, 0.4, 0.2],\n",
    "    'tv__min_df': [0.025, 0.05, 0.1], # The lower the min_df, the better the prediction\n",
    "    'tv__ngram_range': [(1, 1), (1, 2)]\n",
    "}\n",
    "\n",
    "gs = GridSearchCV(pipe, param_grid = params)\n",
    "gs.fit(X_train, y_train)\n",
    "print(f'The cross val score is {gs.best_score_}')\n",
    "gs.best_params_"
   ]
  },
  {
   "cell_type": "code",
   "execution_count": 22,
   "id": "76d9f15d",
   "metadata": {
    "scrolled": true
   },
   "outputs": [
    {
     "data": {
      "image/png": "[encoded data removed]",
      "text/plain": [
       "<Figure size 432x288 with 2 Axes>"
      ]
     },
     "metadata": {
      "needs_background": "light"
     },
     "output_type": "display_data"
    }
   ],
   "source": [
    "plot_confusion_matrix(gs, X_test, y_test)\n",
    "plt.title('LR with unchanged parameters');"
   ]
  },
  {
   "cell_type": "code",
   "execution_count": 23,
   "id": "eff66651",
   "metadata": {},
   "outputs": [
    {
     "name": "stdout",
     "output_type": "stream",
     "text": [
      "The cross val score is 0.9106959376487984\n"
     ]
    },
    {
     "data": {
      "text/plain": [
       "{'tv__max_df': 0.6, 'tv__ngram_range': (1, 1)}"
      ]
     },
     "execution_count": 23,
     "metadata": {},
     "output_type": "execute_result"
    }
   ],
   "source": [
    "# Final Logistic Regression Pipeline\n",
    "pipe = Pipeline([\n",
    "    ('tv', TfidfVectorizer(stop_words = new_stop_words,\n",
    "                           strip_accents = 'ascii',\n",
    "                           max_features = 2000,\n",
    "                           min_df = 0.1,\n",
    "                           norm = 'l2',\n",
    "                           tokenizer=my_custom_tokenizer)),\n",
    "    ('lr', LogisticRegression(n_jobs = -1))\n",
    "])\n",
    "\n",
    "params = {\n",
    "    'tv__max_df': [0.6, 0.4, 0.2], # Best: 0.6\n",
    "    'tv__ngram_range': [(1, 1), (1, 2), (1, 3)] # Best: (1, 1)\n",
    "}\n",
    "\n",
    "gs = GridSearchCV(pipe, param_grid = params)\n",
    "gs.fit(X_train, y_train)\n",
    "print(f'The cross val score is {gs.best_score_}')\n",
    "gs.best_params_"
   ]
  },
  {
   "cell_type": "code",
   "execution_count": 24,
   "id": "d41758cb",
   "metadata": {},
   "outputs": [
    {
     "data": {
      "image/png": "[encoded data removed]",
      "text/plain": [
       "<Figure size 432x288 with 2 Axes>"
      ]
     },
     "metadata": {
      "needs_background": "light"
     },
     "output_type": "display_data"
    }
   ],
   "source": [
    "plot_confusion_matrix(gs, X_test, y_test)\n",
    "plt.title('Logistic Regression');"
   ]
  },
  {
   "cell_type": "markdown",
   "id": "2a07b24c",
   "metadata": {},
   "source": [
    "## KNN Classifier"
   ]
  },
  {
   "cell_type": "code",
   "execution_count": 25,
   "id": "77ac85fb",
   "metadata": {},
   "outputs": [
    {
     "name": "stdout",
     "output_type": "stream",
     "text": [
      "The cross val score is 0.7165100368393353\n"
     ]
    },
    {
     "data": {
      "text/plain": [
       "{'tv__max_df': 0.2, 'tv__ngram_range': (1, 1)}"
      ]
     },
     "execution_count": 25,
     "metadata": {},
     "output_type": "execute_result"
    }
   ],
   "source": [
    "# KNN Pipeline\n",
    "pipe = Pipeline([\n",
    "    ('tv', TfidfVectorizer(stop_words = new_stop_words,\n",
    "                           strip_accents = 'ascii',\n",
    "                           max_features = 2000,\n",
    "                           min_df = 0.1,\n",
    "                           norm = 'l2',\n",
    "                           tokenizer=my_custom_tokenizer)),\n",
    "    ('lr', KNeighborsClassifier(n_jobs = -1))\n",
    "])\n",
    "\n",
    "params = {\n",
    "    'tv__max_df': [0.6, 0.4, 0.2], # Best: 0.2\n",
    "    'tv__ngram_range': [(1, 1), (1, 2), (1, 3)] # Best (1, 1)\n",
    "} \n",
    "\n",
    "gs = GridSearchCV(pipe, param_grid = params)\n",
    "gs.fit(X_train, y_train)\n",
    "print(f'The cross val score is {gs.best_score_}')\n",
    "gs.best_params_"
   ]
  },
  {
   "cell_type": "code",
   "execution_count": 26,
   "id": "4123bac0",
   "metadata": {},
   "outputs": [
    {
     "data": {
      "image/png": "[encoded data removed]",
      "text/plain": [
       "<Figure size 432x288 with 2 Axes>"
      ]
     },
     "metadata": {
      "needs_background": "light"
     },
     "output_type": "display_data"
    }
   ],
   "source": [
    "plot_confusion_matrix(gs, X_test, y_test)\n",
    "plt.title('KNN Classifier');"
   ]
  },
  {
   "cell_type": "markdown",
   "id": "09379948",
   "metadata": {},
   "source": [
    "## Random Forest Classifier"
   ]
  },
  {
   "cell_type": "code",
   "execution_count": 27,
   "id": "404ce31d",
   "metadata": {},
   "outputs": [
    {
     "name": "stdout",
     "output_type": "stream",
     "text": [
      "The cross val score is 0.9057489411823673\n"
     ]
    },
    {
     "data": {
      "text/plain": [
       "{'tv__max_df': 0.6, 'tv__ngram_range': (1, 2)}"
      ]
     },
     "execution_count": 27,
     "metadata": {},
     "output_type": "execute_result"
    }
   ],
   "source": [
    "# Final Logistic Regression Pipeline\n",
    "pipe = Pipeline([\n",
    "    ('tv', TfidfVectorizer(stop_words = new_stop_words,\n",
    "                           strip_accents = 'ascii',\n",
    "                           max_features = 2000,\n",
    "                           min_df = 0.1,\n",
    "                           norm = 'l2',\n",
    "                           tokenizer=my_custom_tokenizer)),\n",
    "    ('lr', RandomForestClassifier(n_jobs = -1))\n",
    "])\n",
    "\n",
    "params = {\n",
    "    'tv__max_df': [0.6, 0.4, 0.2], # Best: 0.6\n",
    "    'tv__ngram_range': [(1, 1), (1, 2), (1, 3)] # Best: (1, 2)\n",
    "}\n",
    "\n",
    "gs = GridSearchCV(pipe, param_grid = params)\n",
    "gs.fit(X_train, y_train)\n",
    "print(f'The cross val score is {gs.best_score_}')\n",
    "gs.best_params_"
   ]
  },
  {
   "cell_type": "code",
   "execution_count": 28,
   "id": "36239acd",
   "metadata": {},
   "outputs": [
    {
     "data": {
      "image/png": "[encoded data removed]",
      "text/plain": [
       "<Figure size 432x288 with 2 Axes>"
      ]
     },
     "metadata": {
      "needs_background": "light"
     },
     "output_type": "display_data"
    }
   ],
   "source": [
    "plot_confusion_matrix(gs, X_test, y_test)\n",
    "plt.title('Random Forest Classifier');"
   ]
  },
  {
   "cell_type": "markdown",
   "id": "9d115c02",
   "metadata": {},
   "source": [
    "# Conclusion and Recommendations"
   ]
  },
  {
   "cell_type": "markdown",
   "id": "5b4e0aba",
   "metadata": {},
   "source": [
    "**Conclusion:** The project was inconclusive in finding a major connection between the two subreddits. A large attributor to this was due to both subreddits having unique vocabulary and slang. When these select words were taken out of the model, there were no significant outliers that would indicate similarities.\n",
    "\n",
    "However, the data did show that both subreddits had more female gender nouns. r/TalesFromRetail had about 20% more references while r/raisedbynarcissists had up to 50% more. The latter also had significantly more slang related to mothers. Both subreddits also had a roughly equal amount of references to money."
   ]
  },
  {
   "cell_type": "markdown",
   "id": "a045a7ff",
   "metadata": {},
   "source": [
    "**Recommendations:** While the majority of the analyzed text gave limited information in their stories, a portion gave details on age and demographic. Additional work can be done in order to analyze posts specifically with this kind of detail in order to provide a better picture of the abusers. One possible route is to look at comments from the original poster for additional data.\n",
    "\n",
    "However going forward there might not be enough data to indicate a connection, especially since the TalesFromRetail subreddit only provides personal estimations on the abusers. That being said, age and demographic extraction in the raisedbynarcissists subreddit alone may be worthwhile."
   ]
  }
 ],
 "metadata": {
  "kernelspec": {
   "display_name": "Python 3 (ipykernel)",
   "language": "python",
   "name": "python3"
  },
  "language_info": {
   "codemirror_mode": {
    "name": "ipython",
    "version": 3
   },
   "file_extension": ".py",
   "mimetype": "text/x-python",
   "name": "python",
   "nbconvert_exporter": "python",
   "pygments_lexer": "ipython3",
   "version": "3.8.8"
  }
 },
 "nbformat": 4,
 "nbformat_minor": 5
}
